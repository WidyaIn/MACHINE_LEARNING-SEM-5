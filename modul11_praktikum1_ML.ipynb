{
  "cells": [
    {
      "cell_type": "markdown",
      "metadata": {
        "id": "view-in-github",
        "colab_type": "text"
      },
      "source": [
        "<a href=\"https://colab.research.google.com/github/WidyaIn/MACHINE_LEARNING-SEM-5/blob/main/modul11_praktikum1_ML.ipynb\" target=\"_parent\"><img src=\"https://colab.research.google.com/assets/colab-badge.svg\" alt=\"Open In Colab\"/></a>"
      ]
    },
    {
      "cell_type": "markdown",
      "metadata": {
        "id": "PCOLkk_nq0io"
      },
      "source": [
        "### Step 1 - Import Libraries"
      ]
    },
    {
      "cell_type": "code",
      "execution_count": 16,
      "metadata": {
        "id": "VeZPmvIXq0iq"
      },
      "outputs": [],
      "source": [
        "import numpy as np\n",
        "import tensorflow as tf\n",
        "from keras.preprocessing import image\n",
        "from keras.preprocessing.image import ImageDataGenerator"
      ]
    },
    {
      "cell_type": "markdown",
      "metadata": {
        "id": "j6Alhha7q0ir"
      },
      "source": [
        "### Step 2 - Preprocessing"
      ]
    },
    {
      "cell_type": "markdown",
      "metadata": {
        "id": "9OxXCimhq0is"
      },
      "source": [
        "#### Step 2.1 - Data Training"
      ]
    },
    {
      "cell_type": "code",
      "source": [
        "from google.colab import drive\n",
        "drive.mount('/content/drive')"
      ],
      "metadata": {
        "colab": {
          "base_uri": "https://localhost:8080/"
        },
        "id": "KY2YgV5wtiPI",
        "outputId": "3710e721-4d9b-4848-90f4-5685e1564a46"
      },
      "execution_count": 17,
      "outputs": [
        {
          "output_type": "stream",
          "name": "stdout",
          "text": [
            "Drive already mounted at /content/drive; to attempt to forcibly remount, call drive.mount(\"/content/drive\", force_remount=True).\n"
          ]
        }
      ]
    },
    {
      "cell_type": "code",
      "execution_count": 18,
      "metadata": {
        "id": "6yvwLMFgq0is",
        "outputId": "94c7a238-f1eb-4f55-a732-9f0f75c679eb",
        "colab": {
          "base_uri": "https://localhost:8080/"
        }
      },
      "outputs": [
        {
          "output_type": "stream",
          "name": "stdout",
          "text": [
            "Found 8000 images belonging to 2 classes.\n"
          ]
        }
      ],
      "source": [
        "train_datagen = ImageDataGenerator(rescale=1./255, shear_range=0.2, zoom_range=0.2, horizontal_flip=True)\n",
        "training_set = train_datagen.flow_from_directory('/content/drive/MyDrive/dataset/training_set', target_size=(64, 64), batch_size=32, class_mode='binary')"
      ]
    },
    {
      "cell_type": "markdown",
      "metadata": {
        "id": "lq87W2bGq0is"
      },
      "source": [
        "#### Step 2.2 - Data Testing"
      ]
    },
    {
      "cell_type": "code",
      "execution_count": 19,
      "metadata": {
        "id": "mJXM3gPkq0it",
        "outputId": "dbe6e5ea-1dd9-45a5-9656-52822a8a48a9",
        "colab": {
          "base_uri": "https://localhost:8080/"
        }
      },
      "outputs": [
        {
          "output_type": "stream",
          "name": "stdout",
          "text": [
            "Found 2000 images belonging to 2 classes.\n"
          ]
        }
      ],
      "source": [
        "test_datagen = ImageDataGenerator(rescale=1./255, shear_range=0.2, zoom_range=0.2, horizontal_flip=True)\n",
        "test_set = train_datagen.flow_from_directory('/content/drive/MyDrive/dataset/test_set', target_size=(64, 64), batch_size=32, class_mode='binary')"
      ]
    },
    {
      "cell_type": "markdown",
      "metadata": {
        "id": "l-OPUGN8q0it"
      },
      "source": [
        "### Step 3 - CNN Modelling"
      ]
    },
    {
      "cell_type": "markdown",
      "metadata": {
        "id": "SJRsgbieq0it"
      },
      "source": [
        "#### Step 3.1 - Initiate CNN Model"
      ]
    },
    {
      "cell_type": "code",
      "execution_count": 20,
      "metadata": {
        "id": "-EGxu4FIq0it"
      },
      "outputs": [],
      "source": [
        "cnn = tf.keras.models.Sequential()"
      ]
    },
    {
      "cell_type": "markdown",
      "metadata": {
        "id": "56yEibs_q0it"
      },
      "source": [
        "#### Step 3.2 - Generate 1st Convolution Layer"
      ]
    },
    {
      "cell_type": "code",
      "execution_count": 21,
      "metadata": {
        "id": "GeP6IYA1q0it"
      },
      "outputs": [],
      "source": [
        "cnn.add(tf.keras.layers.Conv2D(filters=32, kernel_size=3, activation='relu', input_shape=[64, 64, 3]))"
      ]
    },
    {
      "cell_type": "markdown",
      "metadata": {
        "id": "WsiLp56Gq0iu"
      },
      "source": [
        "#### Step 3.3 - Generate 1st Pooling Layer"
      ]
    },
    {
      "cell_type": "code",
      "execution_count": 22,
      "metadata": {
        "id": "XUniTewsq0iu"
      },
      "outputs": [],
      "source": [
        "cnn.add(tf.keras.layers.MaxPool2D(pool_size=2, strides=2))"
      ]
    },
    {
      "cell_type": "markdown",
      "metadata": {
        "id": "Uj0Irezxq0iu"
      },
      "source": [
        "#### Step 3.4 - Generate 2nd Convolution Layer and Pooling Layer"
      ]
    },
    {
      "cell_type": "code",
      "execution_count": 23,
      "metadata": {
        "id": "uuXeFL69q0iu"
      },
      "outputs": [],
      "source": [
        "cnn.add(tf.keras.layers.Conv2D(filters=32, kernel_size=3, activation='relu'))\n",
        "cnn.add(tf.keras.layers.MaxPool2D(pool_size=2, strides=2))"
      ]
    },
    {
      "cell_type": "markdown",
      "metadata": {
        "id": "hnX0-E5Yq0iu"
      },
      "source": [
        "#### Step 3.5 - Generate Flattening Layer"
      ]
    },
    {
      "cell_type": "code",
      "execution_count": 24,
      "metadata": {
        "id": "VLAh3XYyq0iu"
      },
      "outputs": [],
      "source": [
        "cnn.add(tf.keras.layers.Flatten())"
      ]
    },
    {
      "cell_type": "markdown",
      "metadata": {
        "id": "Bb6Q4jaTq0iu"
      },
      "source": [
        "#### Step 3.6 - Generate 1st Fully Connected Layer (input)"
      ]
    },
    {
      "cell_type": "code",
      "execution_count": 25,
      "metadata": {
        "id": "nLy70Wznq0iu"
      },
      "outputs": [],
      "source": [
        "cnn.add(tf.keras.layers.Dense(units=128, activation='relu'))"
      ]
    },
    {
      "cell_type": "markdown",
      "metadata": {
        "id": "KGElSfJVq0iv"
      },
      "source": [
        "#### Step 3.7 - Generate 2nd Fully Connected Layer (output)"
      ]
    },
    {
      "cell_type": "code",
      "execution_count": 26,
      "metadata": {
        "id": "0lvzHRRqq0iv"
      },
      "outputs": [],
      "source": [
        "cnn.add(tf.keras.layers.Dense(units=1, activation='sigmoid'))"
      ]
    },
    {
      "cell_type": "markdown",
      "metadata": {
        "id": "-1mzIiSdq0iv"
      },
      "source": [
        "#### Step 3.8 - Compile CNN Model"
      ]
    },
    {
      "cell_type": "code",
      "execution_count": 27,
      "metadata": {
        "id": "Wqn5oUKrq0iv"
      },
      "outputs": [],
      "source": [
        "cnn.compile(optimizer='adam', loss='binary_crossentropy', metrics=['accuracy'])"
      ]
    },
    {
      "cell_type": "markdown",
      "metadata": {
        "id": "zcCTQ5nlq0iv"
      },
      "source": [
        "### Step 4 - Fitting CNN Model"
      ]
    },
    {
      "cell_type": "code",
      "execution_count": 28,
      "metadata": {
        "id": "QbdbPRotq0iv",
        "outputId": "304a991e-a36a-40cc-fa89-7d201bee50df",
        "colab": {
          "base_uri": "https://localhost:8080/"
        }
      },
      "outputs": [
        {
          "output_type": "stream",
          "name": "stdout",
          "text": [
            "Epoch 1/25\n",
            "250/250 [==============================] - 56s 212ms/step - loss: 0.6559 - accuracy: 0.6155 - val_loss: 0.5987 - val_accuracy: 0.7020\n",
            "Epoch 2/25\n",
            "250/250 [==============================] - 51s 204ms/step - loss: 0.5892 - accuracy: 0.6888 - val_loss: 0.5610 - val_accuracy: 0.7145\n",
            "Epoch 3/25\n",
            "250/250 [==============================] - 48s 190ms/step - loss: 0.5490 - accuracy: 0.7166 - val_loss: 0.5222 - val_accuracy: 0.7390\n",
            "Epoch 4/25\n",
            "250/250 [==============================] - 49s 195ms/step - loss: 0.5176 - accuracy: 0.7421 - val_loss: 0.4975 - val_accuracy: 0.7715\n",
            "Epoch 5/25\n",
            "250/250 [==============================] - 47s 189ms/step - loss: 0.4974 - accuracy: 0.7539 - val_loss: 0.5049 - val_accuracy: 0.7585\n",
            "Epoch 6/25\n",
            "250/250 [==============================] - 47s 188ms/step - loss: 0.4686 - accuracy: 0.7722 - val_loss: 0.4858 - val_accuracy: 0.7795\n",
            "Epoch 7/25\n",
            "250/250 [==============================] - 49s 194ms/step - loss: 0.4622 - accuracy: 0.7810 - val_loss: 0.4937 - val_accuracy: 0.7650\n",
            "Epoch 8/25\n",
            "250/250 [==============================] - 46s 185ms/step - loss: 0.4357 - accuracy: 0.7969 - val_loss: 0.4777 - val_accuracy: 0.7850\n",
            "Epoch 9/25\n",
            "250/250 [==============================] - 50s 202ms/step - loss: 0.4194 - accuracy: 0.7987 - val_loss: 0.4640 - val_accuracy: 0.7900\n",
            "Epoch 10/25\n",
            "250/250 [==============================] - 46s 185ms/step - loss: 0.4095 - accuracy: 0.8059 - val_loss: 0.4615 - val_accuracy: 0.7880\n",
            "Epoch 11/25\n",
            "250/250 [==============================] - 47s 187ms/step - loss: 0.3865 - accuracy: 0.8226 - val_loss: 0.4715 - val_accuracy: 0.7805\n",
            "Epoch 12/25\n",
            "250/250 [==============================] - 47s 186ms/step - loss: 0.3761 - accuracy: 0.8301 - val_loss: 0.5340 - val_accuracy: 0.7670\n",
            "Epoch 13/25\n",
            "250/250 [==============================] - 47s 187ms/step - loss: 0.3542 - accuracy: 0.8374 - val_loss: 0.4607 - val_accuracy: 0.8010\n",
            "Epoch 14/25\n",
            "250/250 [==============================] - 50s 201ms/step - loss: 0.3286 - accuracy: 0.8536 - val_loss: 0.4984 - val_accuracy: 0.7885\n",
            "Epoch 15/25\n",
            "250/250 [==============================] - 47s 190ms/step - loss: 0.3184 - accuracy: 0.8620 - val_loss: 0.4669 - val_accuracy: 0.7940\n",
            "Epoch 16/25\n",
            "250/250 [==============================] - 48s 191ms/step - loss: 0.3056 - accuracy: 0.8677 - val_loss: 0.4597 - val_accuracy: 0.8050\n",
            "Epoch 17/25\n",
            "250/250 [==============================] - 47s 188ms/step - loss: 0.2954 - accuracy: 0.8705 - val_loss: 0.5118 - val_accuracy: 0.7795\n",
            "Epoch 18/25\n",
            "250/250 [==============================] - 47s 188ms/step - loss: 0.2704 - accuracy: 0.8849 - val_loss: 0.5369 - val_accuracy: 0.7925\n",
            "Epoch 19/25\n",
            "250/250 [==============================] - 48s 190ms/step - loss: 0.2673 - accuracy: 0.8865 - val_loss: 0.5334 - val_accuracy: 0.7810\n",
            "Epoch 20/25\n",
            "250/250 [==============================] - 50s 200ms/step - loss: 0.2468 - accuracy: 0.8969 - val_loss: 0.5059 - val_accuracy: 0.7890\n",
            "Epoch 21/25\n",
            "250/250 [==============================] - 49s 196ms/step - loss: 0.2308 - accuracy: 0.9039 - val_loss: 0.5468 - val_accuracy: 0.7790\n",
            "Epoch 22/25\n",
            "250/250 [==============================] - 46s 185ms/step - loss: 0.2263 - accuracy: 0.9096 - val_loss: 0.5256 - val_accuracy: 0.7955\n",
            "Epoch 23/25\n",
            "250/250 [==============================] - 47s 187ms/step - loss: 0.2069 - accuracy: 0.9166 - val_loss: 0.5722 - val_accuracy: 0.7995\n",
            "Epoch 24/25\n",
            "250/250 [==============================] - 46s 186ms/step - loss: 0.1899 - accuracy: 0.9247 - val_loss: 0.6046 - val_accuracy: 0.7945\n",
            "Epoch 25/25\n",
            "250/250 [==============================] - 49s 195ms/step - loss: 0.1942 - accuracy: 0.9196 - val_loss: 0.5356 - val_accuracy: 0.7940\n"
          ]
        },
        {
          "output_type": "execute_result",
          "data": {
            "text/plain": [
              "<keras.src.callbacks.History at 0x7b66b840ae90>"
            ]
          },
          "metadata": {},
          "execution_count": 28
        }
      ],
      "source": [
        "cnn.fit(x=training_set, validation_data=test_set, epochs=25)"
      ]
    },
    {
      "cell_type": "markdown",
      "metadata": {
        "id": "gKaoqmumq0iv"
      },
      "source": [
        "### Step 5 - Predicting CNN Model"
      ]
    },
    {
      "cell_type": "code",
      "execution_count": 29,
      "metadata": {
        "id": "4Fajc-puq0iv",
        "colab": {
          "base_uri": "https://localhost:8080/"
        },
        "outputId": "70312e52-e55f-41ce-8236-8c19a32e09cd"
      },
      "outputs": [
        {
          "output_type": "stream",
          "name": "stdout",
          "text": [
            "1/1 [==============================] - 0s 69ms/step\n",
            "dog\n"
          ]
        }
      ],
      "source": [
        "test_image = image.load_img('/content/drive/MyDrive/dataset/single_prediction/cat_or_dog_1.jpg', target_size = (64, 64))\n",
        "test_image = image.img_to_array(test_image)\n",
        "test_image = np.expand_dims(test_image, axis = 0)\n",
        "result = cnn.predict(test_image)\n",
        "training_set.class_indices\n",
        "if result[0][0] == 1:\n",
        "  prediction = 'dog'\n",
        "else:\n",
        "  prediction = 'cat'\n",
        "\n",
        "print(prediction)"
      ]
    }
  ],
  "metadata": {
    "kernelspec": {
      "display_name": "Python 3",
      "language": "python",
      "name": "python3"
    },
    "language_info": {
      "codemirror_mode": {
        "name": "ipython",
        "version": 3
      },
      "file_extension": ".py",
      "mimetype": "text/x-python",
      "name": "python",
      "nbconvert_exporter": "python",
      "pygments_lexer": "ipython3",
      "version": "3.10.12"
    },
    "colab": {
      "provenance": [],
      "include_colab_link": true
    }
  },
  "nbformat": 4,
  "nbformat_minor": 0
}