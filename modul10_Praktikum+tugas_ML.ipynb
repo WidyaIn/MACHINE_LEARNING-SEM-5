{
  "nbformat": 4,
  "nbformat_minor": 0,
  "metadata": {
    "colab": {
      "provenance": [],
      "gpuType": "T4",
      "include_colab_link": true
    },
    "kernelspec": {
      "name": "python3",
      "display_name": "Python 3"
    },
    "language_info": {
      "name": "python"
    },
    "accelerator": "GPU"
  },
  "cells": [
    {
      "cell_type": "markdown",
      "metadata": {
        "id": "view-in-github",
        "colab_type": "text"
      },
      "source": [
        "<a href=\"https://colab.research.google.com/github/WidyaIn/MACHINE_LEARNING-SEM-5/blob/main/modul10_Praktikum%2Btugas_ML.ipynb\" target=\"_parent\"><img src=\"https://colab.research.google.com/assets/colab-badge.svg\" alt=\"Open In Colab\"/></a>"
      ]
    },
    {
      "cell_type": "markdown",
      "source": [
        "# NAMA : WIDYA INDAH PUSPITA SARI\n",
        "\n",
        "# KELAS : TI-3A\n",
        "\n",
        "# NIM : 2141720034"
      ],
      "metadata": {
        "id": "Ryum3jvIZ9Qb"
      }
    },
    {
      "cell_type": "markdown",
      "source": [
        "# **PRAKTIKUM 1**"
      ],
      "metadata": {
        "id": "zXy10xhXaLLq"
      }
    },
    {
      "cell_type": "markdown",
      "source": [
        "# **Setup**"
      ],
      "metadata": {
        "id": "h46jUh1maIM9"
      }
    },
    {
      "cell_type": "code",
      "source": [
        "import numpy as np\n",
        "import tensorflow_datasets as tfds\n",
        "import tensorflow as tf\n",
        "\n",
        "tfds.disable_progress_bar()"
      ],
      "metadata": {
        "id": "3ffXZkOQacd1"
      },
      "execution_count": 1,
      "outputs": []
    },
    {
      "cell_type": "code",
      "source": [
        "import matplotlib.pyplot as plt\n",
        "\n",
        "def plot_graphs(history, metric):\n",
        " plt.plot(history.history[metric])\n",
        " plt.plot(history.history['val_'+metric], '')\n",
        " plt.xlabel(\"Epochs\")\n",
        " plt.ylabel(metric)\n",
        " plt.legend([metric, 'val_'+metric])"
      ],
      "metadata": {
        "id": "ASYtC940aio7"
      },
      "execution_count": 2,
      "outputs": []
    },
    {
      "cell_type": "markdown",
      "source": [
        "# **Setup input pipeline**"
      ],
      "metadata": {
        "id": "x1a5Cz0paRzj"
      }
    },
    {
      "cell_type": "markdown",
      "source": [
        "Download dataset menggunakan TFDS."
      ],
      "metadata": {
        "id": "T4ujl3Nhasng"
      }
    },
    {
      "cell_type": "code",
      "source": [
        "dataset, info = tfds.load('imdb_reviews', with_info=True,\n",
        "                          as_supervised=True)\n",
        "train_dataset, test_dataset = dataset['train'], dataset['test']\n",
        "\n",
        "train_dataset.element_spec"
      ],
      "metadata": {
        "colab": {
          "base_uri": "https://localhost:8080/"
        },
        "id": "Anf9cNkoanSD",
        "outputId": "64eb3eeb-65f9-4468-dd45-c1e65d569c74"
      },
      "execution_count": 3,
      "outputs": [
        {
          "output_type": "stream",
          "name": "stdout",
          "text": [
            "Downloading and preparing dataset 80.23 MiB (download: 80.23 MiB, generated: Unknown size, total: 80.23 MiB) to /root/tensorflow_datasets/imdb_reviews/plain_text/1.0.0...\n",
            "Dataset imdb_reviews downloaded and prepared to /root/tensorflow_datasets/imdb_reviews/plain_text/1.0.0. Subsequent calls will reuse this data.\n"
          ]
        },
        {
          "output_type": "execute_result",
          "data": {
            "text/plain": [
              "(TensorSpec(shape=(), dtype=tf.string, name=None),\n",
              " TensorSpec(shape=(), dtype=tf.int64, name=None))"
            ]
          },
          "metadata": {},
          "execution_count": 3
        }
      ]
    },
    {
      "cell_type": "markdown",
      "source": [
        "Awalnya ini mengembalikan dataset (teks, pasangan label):"
      ],
      "metadata": {
        "id": "0BWVjxTOat7t"
      }
    },
    {
      "cell_type": "code",
      "source": [
        "for example, label in train_dataset.take(1):\n",
        "  print('text: ', example.numpy())\n",
        "  print('label: ', label.numpy())"
      ],
      "metadata": {
        "colab": {
          "base_uri": "https://localhost:8080/"
        },
        "id": "c6Gf0xc6axA-",
        "outputId": "474b6873-729f-478f-987f-d3b11fd6aa53"
      },
      "execution_count": 4,
      "outputs": [
        {
          "output_type": "stream",
          "name": "stdout",
          "text": [
            "text:  b\"This was an absolutely terrible movie. Don't be lured in by Christopher Walken or Michael Ironside. Both are great actors, but this must simply be their worst role in history. Even their great acting could not redeem this movie's ridiculous storyline. This movie is an early nineties US propaganda piece. The most pathetic scenes were those when the Columbian rebels were making their cases for revolutions. Maria Conchita Alonso appeared phony, and her pseudo-love affair with Walken was nothing but a pathetic emotional plug in a movie that was devoid of any real meaning. I am disappointed that there are movies like this, ruining actor's like Christopher Walken's good name. I could barely sit through it.\"\n",
            "label:  0\n"
          ]
        }
      ]
    },
    {
      "cell_type": "markdown",
      "source": [
        "Berikutnya acak data untuk pelatihan dan membuat kumpulan pasangan (teks, label) ini:"
      ],
      "metadata": {
        "id": "PSLF-gH1a2A7"
      }
    },
    {
      "cell_type": "code",
      "source": [
        "BUFFER_SIZE = 10000\n",
        "BATCH_SIZE = 64\n",
        "\n",
        "train_dataset = train_dataset.shuffle(BUFFER_SIZE).batch(BATCH_SIZE).prefetch(tf.data.AUTOTUNE)\n",
        "test_dataset = test_dataset.batch(BATCH_SIZE).prefetch(tf.data.AUTOTUNE)\n",
        "\n",
        "for example, label in train_dataset.take(1):\n",
        "  print('texts: ', example.numpy()[:3])\n",
        "  print()\n",
        "  print('labels: ', label.numpy()[:3])\n"
      ],
      "metadata": {
        "colab": {
          "base_uri": "https://localhost:8080/"
        },
        "id": "MU3ZtjSGa1vU",
        "outputId": "18581f46-63a1-48c2-ecdb-174a4a30929c"
      },
      "execution_count": 5,
      "outputs": [
        {
          "output_type": "stream",
          "name": "stdout",
          "text": [
            "texts:  [b'The great and underrated Marion Davies shows her stuff in this late (1928) silent comedy that also showcases the wonderful William Haines. Davies plays a hick from Georgia who crashes Hollywood with help from Haines. They appear in cheap comedies until Marion is \"discovered\" and becomes a big dramatic star. A great lampoon on Hollywood and its pretentions. Davies & Haines are a wonderful team (too bad they never made a talkie together) and the guest shots from the likes of Charlie Chaplin, Douglas Fairbanks, William S. Hart, John Gilbert, Elinor Glynn, and Marion Davies (you have to see it) are a hoot. A must for any serious film buff or for anyone interested in the still-maligned Marion Davies!'\n",
            " b\"If, in the first 10 minutes of this film, you don't realize that the main character, who writes a life advice column, is going to have the tables-oh-so-cleverly-turned and learn some valuable life lessons himself, then there is probably something wrong with you. The set up is so predictable as to ruin the movie, even if the rest of the movie was good (which it isn't) <br /><br />There's almost no chemistry between the leads, and Steve Carell's stalker-ish behavior is embarrassing, not funny. It's hard to believe Binoche's character would have any interest in him. Then in the end it's all wrapped up so wonderful and everyone lives happily ever after. Isn't that great America!\"\n",
            " b'My thoughts on the movie, 9<br /><br />It was not good, not good at all. Visually, it was great. I was pleased with the pacing, the camera angles, etc. However, the characters? eh, kinda bland. Plot? It sucked.<br /><br />This movie seemed more new age crap than anything else. Organized religion is presented as cowardly and fearful. Science isn\\'t portrayed any better. It creates a monster weapon that kills everything... but \"souls\" have the power to destroy monsters and bring life? Really?<br /><br />That\\'s something that bites my ass a bit too. Here we have a CGI movie... created with science... and they\\'re using it to give us the message that science will destroy the world while promoting the idea that spirituality will save us? At least they had the decency to have one of the characters ask,<br /><br />\"Okay, so now what?\" (or something similar). I couldn\\'t hear it too well because of the crowd immediately getting up and making a break for the exit. It was a \"okay... it was just barely entertaining enough to sit here for the entire movie but now let\\'s get out of here as fast as possible!\" type of exit.<br /><br />This is one of those movies where you can\\'t think if you want to enjoy it. Just look at the visuals and nod your head prettily. Any thought as to, \"what\\'s the point of that?\" will suck you out of disbelief and make you eye the exit sign with longing.<br /><br />Okay... SPOILERS follow.<br /><br />So, basically, a scientist creates \"the Machine\" that is capable of creating other, intelligent, robotic life. Evil humans use it as a weapon. However, the scientist realizes that he is also at fault. He gave the Machine his intellect, but didn\\'t give it his heart. <br /><br />The Machine goes Skynet on humanity\\'s collective ass and wipes out all life on earth, finally slowly powering down. However, the scientist manages to survive and create walking sock-puppets. Each one, containing a piece of the scientist\\'s soul.<br /><br />The last one, #9 wakes up not knowing anything about the world. He sees a strange device nearby and picks it up. He meets up with another like himself, #2. <br /><br />Well, #2 gets captured by a last surviving robot of the Machine. #9 finds more like himself ands sets off to rescue #2. <br /><br />They succeed.<br /><br />#9 notices that there is a matching hole that fits the device perfectly. He inserts it and the Machine comes back to life... pulling out #2\\'s soul in the process.<br /><br />The movie then continues with action scenes with #9 trying to rescue his soul-yanked compatriots. <br /><br />They eventually succeed and destroy the Machine. They release the souls of their fallen friends, who go up into the clouds. It then rains and we see life returning back to the planet.<br /><br />Hunh?!?<br /><br />That makes no sense. None at all. Why the heck did the scientist want to split his soul into 9 homunculi? What did it accomplish? Were they created to stop the machine? Everything is dead! The machine was dead! Why bother?!?<br /><br />Why did he expect nine little critters to succeed when nothing else had? Why not create a second intellectual machine, but with a \"soul\" to fight the first.. at least that would have seemed like it would have had a reasonable chance at success.<br /><br />Why did they have to have their souls sucked into the device by the Machine and then destroy the Machine and then release the souls in order to bring life back to earth? Why not just wait for the machine to power down and bring life back without all the rest of the insane steps?']\n",
            "\n",
            "labels:  [1 0 0]\n"
          ]
        }
      ]
    },
    {
      "cell_type": "markdown",
      "source": [
        "\n",
        "Ini diformat sebagai kode\n",
        "\n",
        "\n",
        "# **Buat Teks Encoder**"
      ],
      "metadata": {
        "id": "JzNjshg2aTrK"
      }
    },
    {
      "cell_type": "code",
      "source": [
        "VOCAB_SIZE = 1000\n",
        "encoder = tf.keras.layers.TextVectorization(\n",
        "    max_tokens=VOCAB_SIZE)\n",
        "encoder.adapt(train_dataset.map(lambda text, label: text))"
      ],
      "metadata": {
        "id": "qttJujVLbfOL"
      },
      "execution_count": 6,
      "outputs": []
    },
    {
      "cell_type": "code",
      "source": [
        "vocab=np.array(encoder.get_vocabulary())\n",
        "vocab[:20]"
      ],
      "metadata": {
        "colab": {
          "base_uri": "https://localhost:8080/"
        },
        "id": "SVg9pJwHbgTT",
        "outputId": "a60780f2-c407-45bc-9628-076b52797fbd"
      },
      "execution_count": 7,
      "outputs": [
        {
          "output_type": "execute_result",
          "data": {
            "text/plain": [
              "array(['', '[UNK]', 'the', 'and', 'a', 'of', 'to', 'is', 'in', 'it', 'i',\n",
              "       'this', 'that', 'br', 'was', 'as', 'for', 'with', 'movie', 'but'],\n",
              "      dtype='<U14')"
            ]
          },
          "metadata": {},
          "execution_count": 7
        }
      ]
    },
    {
      "cell_type": "code",
      "source": [
        "encoded_example=encoder(example)[:3].numpy()\n",
        "encoded_example"
      ],
      "metadata": {
        "colab": {
          "base_uri": "https://localhost:8080/"
        },
        "id": "haxMUKYjbpSb",
        "outputId": "43d46818-0122-43ae-87ca-caaa1840362a"
      },
      "execution_count": 8,
      "outputs": [
        {
          "output_type": "execute_result",
          "data": {
            "text/plain": [
              "array([[ 2, 85,  3, ...,  0,  0,  0],\n",
              "       [45,  8,  2, ...,  0,  0,  0],\n",
              "       [56,  1, 21, ...,  0,  0,  0]])"
            ]
          },
          "metadata": {},
          "execution_count": 8
        }
      ]
    },
    {
      "cell_type": "code",
      "source": [
        "for n in range(3):\n",
        "  print(\"Original: \", example[n].numpy())\n",
        "  print(\"Round-trip: \", \" \".join(vocab[encoded_example[n]]))\n",
        "  print()"
      ],
      "metadata": {
        "colab": {
          "base_uri": "https://localhost:8080/"
        },
        "id": "CFee5w3pbwXc",
        "outputId": "81cd1e4b-43b1-4cd8-838c-0c3f163ba16e"
      },
      "execution_count": 9,
      "outputs": [
        {
          "output_type": "stream",
          "name": "stdout",
          "text": [
            "Original:  b'The great and underrated Marion Davies shows her stuff in this late (1928) silent comedy that also showcases the wonderful William Haines. Davies plays a hick from Georgia who crashes Hollywood with help from Haines. They appear in cheap comedies until Marion is \"discovered\" and becomes a big dramatic star. A great lampoon on Hollywood and its pretentions. Davies & Haines are a wonderful team (too bad they never made a talkie together) and the guest shots from the likes of Charlie Chaplin, Douglas Fairbanks, William S. Hart, John Gilbert, Elinor Glynn, and Marion Davies (you have to see it) are a hoot. A must for any serious film buff or for anyone interested in the still-maligned Marion Davies!'\n",
            "Round-trip:  the great and [UNK] [UNK] [UNK] shows her stuff in this late [UNK] [UNK] comedy that also [UNK] the wonderful [UNK] [UNK] [UNK] plays a [UNK] from [UNK] who [UNK] hollywood with help from [UNK] they appear in cheap [UNK] until [UNK] is [UNK] and becomes a big dramatic star a great [UNK] on hollywood and its [UNK] [UNK] [UNK] are a wonderful team too bad they never made a [UNK] together and the [UNK] shots from the [UNK] of [UNK] [UNK] [UNK] [UNK] [UNK] [UNK] [UNK] john [UNK] [UNK] [UNK] and [UNK] [UNK] you have to see it are a [UNK] a must for any serious film [UNK] or for anyone interested in the [UNK] [UNK] [UNK]                                                                                                                                                                                                                                                                                                                                                                                                                                                                                                                                                                                                                                                                                                                                                                                                                                        \n",
            "\n",
            "Original:  b\"If, in the first 10 minutes of this film, you don't realize that the main character, who writes a life advice column, is going to have the tables-oh-so-cleverly-turned and learn some valuable life lessons himself, then there is probably something wrong with you. The set up is so predictable as to ruin the movie, even if the rest of the movie was good (which it isn't) <br /><br />There's almost no chemistry between the leads, and Steve Carell's stalker-ish behavior is embarrassing, not funny. It's hard to believe Binoche's character would have any interest in him. Then in the end it's all wrapped up so wonderful and everyone lives happily ever after. Isn't that great America!\"\n",
            "Round-trip:  if in the first 10 minutes of this film you dont realize that the main character who [UNK] a life [UNK] [UNK] is going to have the [UNK] and learn some [UNK] life [UNK] himself then there is probably something wrong with you the set up is so predictable as to [UNK] the movie even if the rest of the movie was good which it isnt br br theres almost no [UNK] between the leads and [UNK] [UNK] [UNK] [UNK] is [UNK] not funny its hard to believe [UNK] character would have any interest in him then in the end its all [UNK] up so wonderful and everyone lives [UNK] ever after isnt that great america                                                                                                                                                                                                                                                                                                                                                                                                                                                                                                                                                                                                                                                                                                                                                                                                                                          \n",
            "\n",
            "Original:  b'My thoughts on the movie, 9<br /><br />It was not good, not good at all. Visually, it was great. I was pleased with the pacing, the camera angles, etc. However, the characters? eh, kinda bland. Plot? It sucked.<br /><br />This movie seemed more new age crap than anything else. Organized religion is presented as cowardly and fearful. Science isn\\'t portrayed any better. It creates a monster weapon that kills everything... but \"souls\" have the power to destroy monsters and bring life? Really?<br /><br />That\\'s something that bites my ass a bit too. Here we have a CGI movie... created with science... and they\\'re using it to give us the message that science will destroy the world while promoting the idea that spirituality will save us? At least they had the decency to have one of the characters ask,<br /><br />\"Okay, so now what?\" (or something similar). I couldn\\'t hear it too well because of the crowd immediately getting up and making a break for the exit. It was a \"okay... it was just barely entertaining enough to sit here for the entire movie but now let\\'s get out of here as fast as possible!\" type of exit.<br /><br />This is one of those movies where you can\\'t think if you want to enjoy it. Just look at the visuals and nod your head prettily. Any thought as to, \"what\\'s the point of that?\" will suck you out of disbelief and make you eye the exit sign with longing.<br /><br />Okay... SPOILERS follow.<br /><br />So, basically, a scientist creates \"the Machine\" that is capable of creating other, intelligent, robotic life. Evil humans use it as a weapon. However, the scientist realizes that he is also at fault. He gave the Machine his intellect, but didn\\'t give it his heart. <br /><br />The Machine goes Skynet on humanity\\'s collective ass and wipes out all life on earth, finally slowly powering down. However, the scientist manages to survive and create walking sock-puppets. Each one, containing a piece of the scientist\\'s soul.<br /><br />The last one, #9 wakes up not knowing anything about the world. He sees a strange device nearby and picks it up. He meets up with another like himself, #2. <br /><br />Well, #2 gets captured by a last surviving robot of the Machine. #9 finds more like himself ands sets off to rescue #2. <br /><br />They succeed.<br /><br />#9 notices that there is a matching hole that fits the device perfectly. He inserts it and the Machine comes back to life... pulling out #2\\'s soul in the process.<br /><br />The movie then continues with action scenes with #9 trying to rescue his soul-yanked compatriots. <br /><br />They eventually succeed and destroy the Machine. They release the souls of their fallen friends, who go up into the clouds. It then rains and we see life returning back to the planet.<br /><br />Hunh?!?<br /><br />That makes no sense. None at all. Why the heck did the scientist want to split his soul into 9 homunculi? What did it accomplish? Were they created to stop the machine? Everything is dead! The machine was dead! Why bother?!?<br /><br />Why did he expect nine little critters to succeed when nothing else had? Why not create a second intellectual machine, but with a \"soul\" to fight the first.. at least that would have seemed like it would have had a reasonable chance at success.<br /><br />Why did they have to have their souls sucked into the device by the Machine and then destroy the Machine and then release the souls in order to bring life back to earth? Why not just wait for the machine to power down and bring life back without all the rest of the insane steps?'\n",
            "Round-trip:  my [UNK] on the movie [UNK] br it was not good not good at all [UNK] it was great i was [UNK] with the [UNK] the camera [UNK] etc however the characters [UNK] [UNK] [UNK] plot it [UNK] br this movie seemed more new age crap than anything else [UNK] [UNK] is [UNK] as [UNK] and [UNK] [UNK] isnt portrayed any better it [UNK] a monster [UNK] that [UNK] everything but [UNK] have the power to [UNK] [UNK] and bring life [UNK] br thats something that [UNK] my [UNK] a bit too here we have a [UNK] movie [UNK] with [UNK] and theyre using it to give us the message that [UNK] will [UNK] the world while [UNK] the idea that [UNK] will save us at least they had the [UNK] to have one of the characters [UNK] br okay so now what or something similar i couldnt hear it too well because of the [UNK] [UNK] getting up and making a [UNK] for the [UNK] it was a okay it was just [UNK] entertaining enough to sit here for the entire movie but now lets get out of here as fast as possible type of [UNK] br this is one of those movies where you cant think if you want to enjoy it just look at the [UNK] and [UNK] your head [UNK] any thought as to whats the point of that will [UNK] you out of [UNK] and make you eye the [UNK] [UNK] with [UNK] br okay [UNK] [UNK] br so basically a [UNK] [UNK] the [UNK] that is [UNK] of [UNK] other [UNK] [UNK] life evil [UNK] use it as a [UNK] however the [UNK] [UNK] that he is also at [UNK] he gave the [UNK] his [UNK] but didnt give it his heart br br the [UNK] goes [UNK] on [UNK] [UNK] [UNK] and [UNK] out all life on earth finally [UNK] [UNK] down however the [UNK] manages to [UNK] and create [UNK] [UNK] each one [UNK] a piece of the [UNK] [UNK] br the last one [UNK] [UNK] up not [UNK] anything about the world he [UNK] a strange [UNK] [UNK] and [UNK] it up he meets up with another like himself 2 br br well 2 gets [UNK] by a last [UNK] [UNK] of the [UNK] [UNK] finds more like himself [UNK] sets off to [UNK] 2 br br they [UNK] br [UNK] [UNK] that there is a [UNK] [UNK] that [UNK] the [UNK] perfectly he [UNK] it and the [UNK] comes back to life [UNK] out [UNK] [UNK] in the [UNK] br the movie then [UNK] with action scenes with [UNK] trying to [UNK] his [UNK] [UNK] br br they eventually [UNK] and [UNK] the [UNK] they release the [UNK] of their [UNK] friends who go up into the [UNK] it then [UNK] and we see life [UNK] back to the [UNK] br [UNK] br that makes no sense none at all why the [UNK] did the [UNK] want to [UNK] his [UNK] into [UNK] [UNK] what did it [UNK] were they [UNK] to stop the [UNK] everything is dead the [UNK] was dead why [UNK] br why did he expect [UNK] little [UNK] to [UNK] when nothing else had why not create a second [UNK] [UNK] but with a [UNK] to fight the first at least that would have seemed like it would have had a [UNK] chance at [UNK] br why did they have to have their [UNK] [UNK] into the [UNK] by the [UNK] and then [UNK] the [UNK] and then release the [UNK] in order to bring life back to earth why not just wait for the [UNK] to power down and bring life back without all the rest of the [UNK] [UNK]                                                                                                                                                                                                                                                                                                             \n",
            "\n"
          ]
        }
      ]
    },
    {
      "cell_type": "markdown",
      "source": [
        "# **Buat Model**"
      ],
      "metadata": {
        "id": "vBUmb3dQaWry"
      }
    },
    {
      "cell_type": "code",
      "source": [
        "model = tf.keras.Sequential([\n",
        "    encoder,\n",
        "    tf.keras.layers.Embedding(\n",
        "        input_dim=len(encoder.get_vocabulary()),\n",
        "        output_dim=64,\n",
        "        # Use masking to handle the variable sequence lengths\n",
        "        mask_zero=True),\n",
        "    tf.keras.layers.Bidirectional(tf.keras.layers.LSTM(64)),\n",
        "    tf.keras.layers.Dense(64, activation='relu'),\n",
        "    tf.keras.layers.Dense(1)\n",
        "])"
      ],
      "metadata": {
        "id": "9No2VwRYcYb6"
      },
      "execution_count": 10,
      "outputs": []
    },
    {
      "cell_type": "code",
      "source": [
        "print([layer.supports_masking for layer in model.layers])"
      ],
      "metadata": {
        "colab": {
          "base_uri": "https://localhost:8080/"
        },
        "id": "inf4PaiDcZ_C",
        "outputId": "87c88269-beae-42a4-86b9-384b4aed7984"
      },
      "execution_count": 11,
      "outputs": [
        {
          "output_type": "stream",
          "name": "stdout",
          "text": [
            "[False, True, True, True, True]\n"
          ]
        }
      ]
    },
    {
      "cell_type": "markdown",
      "source": [
        "Untuk memastikan bahwa ini berfungsi seperti yang diharapkan, evaluasi sebuah kalimat dua kali. Pertama, satu kalimat sehingga tidak ada bantalan (padding) untuk disamarkan:"
      ],
      "metadata": {
        "id": "XmLDkFhXc5bM"
      }
    },
    {
      "cell_type": "code",
      "source": [
        "# predict on a sample text without padding.\n",
        "\n",
        "sample_text = ('The movie was cool. The animation and the graphics '\n",
        "               'were out of this world. I would recommend this movie.')\n",
        "predictions = model.predict(np.array([sample_text]))\n",
        "print(predictions[0])"
      ],
      "metadata": {
        "colab": {
          "base_uri": "https://localhost:8080/"
        },
        "id": "O7FGbK_1chgc",
        "outputId": "2aecc0e8-79c2-48d6-d592-1ec3d30cd9b1"
      },
      "execution_count": 12,
      "outputs": [
        {
          "output_type": "stream",
          "name": "stdout",
          "text": [
            "1/1 [==============================] - 7s 7s/step\n",
            "[0.00511938]\n"
          ]
        }
      ]
    },
    {
      "cell_type": "markdown",
      "source": [
        "Sekarang, evaluasi lagi dalam batch dengan kalimat yang lebih panjang. Hasilnya harus sama:"
      ],
      "metadata": {
        "id": "2q3dvosnc70j"
      }
    },
    {
      "cell_type": "code",
      "source": [
        "# predict on a sample text with padding\n",
        "\n",
        "padding = \"the \" * 2000\n",
        "predictions = model.predict(np.array([sample_text, padding]))\n",
        "print(predictions[0])"
      ],
      "metadata": {
        "colab": {
          "base_uri": "https://localhost:8080/"
        },
        "id": "RQfIxCiLcu66",
        "outputId": "8990fb2c-c36a-41a9-efa2-31e2ab51f82a"
      },
      "execution_count": 13,
      "outputs": [
        {
          "output_type": "stream",
          "name": "stdout",
          "text": [
            "1/1 [==============================] - 0s 62ms/step\n",
            "[0.00511938]\n"
          ]
        }
      ]
    },
    {
      "cell_type": "markdown",
      "source": [
        "compile model Keras untuk mengonfigurasi proses pelatihan:"
      ],
      "metadata": {
        "id": "3NWe4x-5c-yy"
      }
    },
    {
      "cell_type": "code",
      "source": [
        "model.compile(loss=tf.keras.losses.BinaryCrossentropy(from_logits=True),\n",
        "              optimizer=tf.keras.optimizers.Adam(1e-4),\n",
        "              metrics=['accuracy'])"
      ],
      "metadata": {
        "id": "_0eQtyOnc3ST"
      },
      "execution_count": 14,
      "outputs": []
    },
    {
      "cell_type": "markdown",
      "source": [
        "# **Train Model**"
      ],
      "metadata": {
        "id": "FjkKz4XGaaPa"
      }
    },
    {
      "cell_type": "code",
      "source": [
        "history = model.fit(train_dataset, epochs=10,\n",
        "                    validation_data=test_dataset,\n",
        "                    validation_steps=30)"
      ],
      "metadata": {
        "colab": {
          "base_uri": "https://localhost:8080/"
        },
        "id": "8j844gm2dfYu",
        "outputId": "285c2c1b-c508-4956-974c-ed3110ce0899"
      },
      "execution_count": 15,
      "outputs": [
        {
          "output_type": "stream",
          "name": "stdout",
          "text": [
            "Epoch 1/10\n",
            "391/391 [==============================] - 51s 105ms/step - loss: 0.6359 - accuracy: 0.5701 - val_loss: 0.5341 - val_accuracy: 0.7240\n",
            "Epoch 2/10\n",
            "391/391 [==============================] - 26s 66ms/step - loss: 0.4587 - accuracy: 0.7708 - val_loss: 0.4184 - val_accuracy: 0.8083\n",
            "Epoch 3/10\n",
            "391/391 [==============================] - 25s 64ms/step - loss: 0.3858 - accuracy: 0.8262 - val_loss: 0.3802 - val_accuracy: 0.8323\n",
            "Epoch 4/10\n",
            "391/391 [==============================] - 25s 63ms/step - loss: 0.3503 - accuracy: 0.8478 - val_loss: 0.3503 - val_accuracy: 0.8469\n",
            "Epoch 5/10\n",
            "391/391 [==============================] - 25s 63ms/step - loss: 0.3315 - accuracy: 0.8616 - val_loss: 0.3382 - val_accuracy: 0.8479\n",
            "Epoch 6/10\n",
            "391/391 [==============================] - 24s 62ms/step - loss: 0.3182 - accuracy: 0.8663 - val_loss: 0.3365 - val_accuracy: 0.8594\n",
            "Epoch 7/10\n",
            "391/391 [==============================] - 26s 67ms/step - loss: 0.3114 - accuracy: 0.8679 - val_loss: 0.3274 - val_accuracy: 0.8578\n",
            "Epoch 8/10\n",
            "391/391 [==============================] - 26s 64ms/step - loss: 0.3055 - accuracy: 0.8715 - val_loss: 0.3255 - val_accuracy: 0.8557\n",
            "Epoch 9/10\n",
            "391/391 [==============================] - 25s 64ms/step - loss: 0.3028 - accuracy: 0.8712 - val_loss: 0.3272 - val_accuracy: 0.8589\n",
            "Epoch 10/10\n",
            "391/391 [==============================] - 25s 62ms/step - loss: 0.3010 - accuracy: 0.8722 - val_loss: 0.3230 - val_accuracy: 0.8656\n"
          ]
        }
      ]
    },
    {
      "cell_type": "code",
      "source": [
        "test_loss, test_acc = model.evaluate(test_dataset)\n",
        "\n",
        "print('Test Loss:', test_loss)\n",
        "print('Test Accuracy:', test_acc)"
      ],
      "metadata": {
        "colab": {
          "base_uri": "https://localhost:8080/"
        },
        "id": "zjqOmVUHdmb7",
        "outputId": "c3c1782f-16b4-4f96-d386-e139b24ed408"
      },
      "execution_count": 16,
      "outputs": [
        {
          "output_type": "stream",
          "name": "stdout",
          "text": [
            "391/391 [==============================] - 12s 30ms/step - loss: 0.3186 - accuracy: 0.8626\n",
            "Test Loss: 0.31864815950393677\n",
            "Test Accuracy: 0.8626000285148621\n"
          ]
        }
      ]
    },
    {
      "cell_type": "code",
      "source": [
        "plt.figure(figsize=(16, 8))\n",
        "plt.subplot(1, 2, 1)\n",
        "plot_graphs(history, 'accuracy')\n",
        "plt.ylim(None, 1)\n",
        "plt.subplot(1, 2, 2)\n",
        "plot_graphs(history, 'loss')\n",
        "plt.ylim(0, None)"
      ],
      "metadata": {
        "colab": {
          "base_uri": "https://localhost:8080/",
          "height": 718
        },
        "id": "SHAOfPT8dn6K",
        "outputId": "8b3da2d4-fb8a-4780-ab7d-50b4b6c5664e"
      },
      "execution_count": 17,
      "outputs": [
        {
          "output_type": "execute_result",
          "data": {
            "text/plain": [
              "(0.0, 0.6526413694024086)"
            ]
          },
          "metadata": {},
          "execution_count": 17
        },
        {
          "output_type": "display_data",
          "data": {
            "text/plain": [
              "<Figure size 1600x800 with 2 Axes>"
            ],
            "image/png": "[encoded data removed]"
          },
          "metadata": {}
        }
      ]
    },
    {
      "cell_type": "markdown",
      "source": [
        "Jalankan prediksi pada kalimat baru:\n",
        "Jika prediksi >= 0,0 berarti positif, jika tidak maka negatif"
      ],
      "metadata": {
        "id": "TruWtrJpdr6G"
      }
    },
    {
      "cell_type": "code",
      "source": [
        "sample_text = ('The movie was cool. The animation and the graphics '\n",
        "                'were out of this world. I would recommend this movie.')\n",
        "predictions = model.predict(np.array([sample_text]))"
      ],
      "metadata": {
        "colab": {
          "base_uri": "https://localhost:8080/"
        },
        "id": "cl92AMFods_6",
        "outputId": "095bc586-d222-4fec-8b3d-062eaacb8e50"
      },
      "execution_count": 18,
      "outputs": [
        {
          "output_type": "stream",
          "name": "stdout",
          "text": [
            "1/1 [==============================] - 2s 2s/step\n"
          ]
        }
      ]
    },
    {
      "cell_type": "markdown",
      "source": [
        "# **Stack two or more LSTM layers**"
      ],
      "metadata": {
        "id": "L2XrkwJlabPM"
      }
    },
    {
      "cell_type": "code",
      "execution_count": 19,
      "metadata": {
        "id": "o-r-P4kLZ5eB"
      },
      "outputs": [],
      "source": [
        "model = tf.keras.Sequential([\n",
        "    encoder,\n",
        "    tf.keras.layers.Embedding(len(encoder.get_vocabulary()), 64, mask_zero=True),\n",
        "    tf.keras.layers.Bidirectional(tf.keras.layers.LSTM(64,  return_sequences=True)),\n",
        "    tf.keras.layers.Bidirectional(tf.keras.layers.LSTM(32)),\n",
        "    tf.keras.layers.Dense(64, activation='relu'),\n",
        "    tf.keras.layers.Dropout(0.5),\n",
        "    tf.keras.layers.Dense(1)\n",
        "])"
      ]
    },
    {
      "cell_type": "code",
      "source": [
        "model.compile(loss=tf.keras.losses.BinaryCrossentropy(from_logits=True),\n",
        "              optimizer=tf.keras.optimizers.Adam(1e-4),\n",
        "              metrics=['accuracy'])"
      ],
      "metadata": {
        "id": "dAcmGq2DepOX"
      },
      "execution_count": 20,
      "outputs": []
    },
    {
      "cell_type": "code",
      "source": [
        "history = model.fit(train_dataset, epochs=10,\n",
        "                    validation_data=test_dataset,\n",
        "                    validation_steps=30)"
      ],
      "metadata": {
        "colab": {
          "base_uri": "https://localhost:8080/"
        },
        "id": "MJnEn_n5euo6",
        "outputId": "fa9fca25-7c66-4cdf-e39b-c43d55c4483e"
      },
      "execution_count": 21,
      "outputs": [
        {
          "output_type": "stream",
          "name": "stdout",
          "text": [
            "Epoch 1/10\n",
            "391/391 [==============================] - 76s 149ms/step - loss: 0.6241 - accuracy: 0.5906 - val_loss: 0.4383 - val_accuracy: 0.7849\n",
            "Epoch 2/10\n",
            "391/391 [==============================] - 46s 118ms/step - loss: 0.3845 - accuracy: 0.8316 - val_loss: 0.3461 - val_accuracy: 0.8484\n",
            "Epoch 3/10\n",
            "391/391 [==============================] - 47s 120ms/step - loss: 0.3348 - accuracy: 0.8593 - val_loss: 0.3382 - val_accuracy: 0.8500\n",
            "Epoch 4/10\n",
            "391/391 [==============================] - 44s 113ms/step - loss: 0.3200 - accuracy: 0.8649 - val_loss: 0.3237 - val_accuracy: 0.8531\n",
            "Epoch 5/10\n",
            "391/391 [==============================] - 46s 116ms/step - loss: 0.3114 - accuracy: 0.8689 - val_loss: 0.3292 - val_accuracy: 0.8505\n",
            "Epoch 6/10\n",
            "391/391 [==============================] - 46s 117ms/step - loss: 0.3064 - accuracy: 0.8700 - val_loss: 0.3219 - val_accuracy: 0.8594\n",
            "Epoch 7/10\n",
            "391/391 [==============================] - 46s 118ms/step - loss: 0.3005 - accuracy: 0.8715 - val_loss: 0.3311 - val_accuracy: 0.8411\n",
            "Epoch 8/10\n",
            "391/391 [==============================] - 47s 121ms/step - loss: 0.3019 - accuracy: 0.8714 - val_loss: 0.3219 - val_accuracy: 0.8609\n",
            "Epoch 9/10\n",
            "391/391 [==============================] - 46s 118ms/step - loss: 0.2967 - accuracy: 0.8759 - val_loss: 0.3268 - val_accuracy: 0.8609\n",
            "Epoch 10/10\n",
            "391/391 [==============================] - 45s 115ms/step - loss: 0.2926 - accuracy: 0.8756 - val_loss: 0.3216 - val_accuracy: 0.8615\n"
          ]
        }
      ]
    },
    {
      "cell_type": "code",
      "source": [
        "test_loss, test_acc = model.evaluate(test_dataset)\n",
        "\n",
        "print('Test Loss:', test_loss)\n",
        "print('Test Accuracy:', test_acc)"
      ],
      "metadata": {
        "id": "4srfJKjae0KS",
        "colab": {
          "base_uri": "https://localhost:8080/"
        },
        "outputId": "5278766a-a9fd-4d16-a9ee-65b4c89bb2d6"
      },
      "execution_count": 22,
      "outputs": [
        {
          "output_type": "stream",
          "name": "stdout",
          "text": [
            "391/391 [==============================] - 26s 67ms/step - loss: 0.3156 - accuracy: 0.8619\n",
            "Test Loss: 0.31562182307243347\n",
            "Test Accuracy: 0.8619199991226196\n"
          ]
        }
      ]
    },
    {
      "cell_type": "code",
      "source": [
        "# predict on a sample text without padding.\n",
        "\n",
        "sample_text = ('The movie was not good. The animation and the graphics '\n",
        "               'were terrible. I would not recommend this movie.')\n",
        "predictions = model.predict(np.array([sample_text]))\n",
        "print(predictions)"
      ],
      "metadata": {
        "id": "mIWs4CRMe2Oz",
        "colab": {
          "base_uri": "https://localhost:8080/"
        },
        "outputId": "16ddf6ec-c401-4cd9-a476-176196343b5a"
      },
      "execution_count": 23,
      "outputs": [
        {
          "output_type": "stream",
          "name": "stdout",
          "text": [
            "1/1 [==============================] - 5s 5s/step\n",
            "[[-2.32285]]\n"
          ]
        }
      ]
    },
    {
      "cell_type": "code",
      "source": [
        "plt.figure(figsize=(16, 6))\n",
        "plt.subplot(1, 2, 1)\n",
        "plot_graphs(history, 'accuracy')\n",
        "plt.subplot(1, 2, 2)\n",
        "plot_graphs(history, 'loss')"
      ],
      "metadata": {
        "id": "tiPEonyoe7AC",
        "colab": {
          "base_uri": "https://localhost:8080/",
          "height": 542
        },
        "outputId": "b9a74856-e078-49e2-cbbf-fde78de7e089"
      },
      "execution_count": 24,
      "outputs": [
        {
          "output_type": "display_data",
          "data": {
            "text/plain": [
              "<Figure size 1600x600 with 2 Axes>"
            ],
            "image/png": "[encoded data removed]"
          },
          "metadata": {}
        }
      ]
    },
    {
      "cell_type": "markdown",
      "source": [
        "# **PRAKTIKUM 2**\n"
      ],
      "metadata": {
        "id": "aXn-1pgr6Oz9"
      }
    },
    {
      "cell_type": "markdown",
      "source": [
        "# **Setup**"
      ],
      "metadata": {
        "id": "JQwFvf3K6RaI"
      }
    },
    {
      "cell_type": "markdown",
      "source": [
        "## Import TensorFlow"
      ],
      "metadata": {
        "id": "dbCdQ-M6TIUJ"
      }
    },
    {
      "cell_type": "code",
      "source": [
        "import tensorflow as tf\n",
        "import numpy as np\n",
        "import os\n",
        "import time"
      ],
      "metadata": {
        "id": "s4XMLPqRUviF"
      },
      "execution_count": 25,
      "outputs": []
    },
    {
      "cell_type": "markdown",
      "source": [
        "Download Dataset Shakespeare"
      ],
      "metadata": {
        "id": "sRsVeYD6TKGG"
      }
    },
    {
      "cell_type": "code",
      "source": [
        "path_to_file = tf.keras.utils.get_file('shakespeare.txt', 'https://storage.googleapis.com/download.tensorflow.org/data/shakespeare.txt')"
      ],
      "metadata": {
        "colab": {
          "base_uri": "https://localhost:8080/"
        },
        "id": "siBgcVO7UwK2",
        "outputId": "bb0f95d7-3ef2-4d7b-b600-25a9b669cc3d"
      },
      "execution_count": 26,
      "outputs": [
        {
          "output_type": "stream",
          "name": "stdout",
          "text": [
            "Downloading data from https://storage.googleapis.com/download.tensorflow.org/data/shakespeare.txt\n",
            "1115394/1115394 [==============================] - 0s 0us/step\n"
          ]
        }
      ]
    },
    {
      "cell_type": "markdown",
      "source": [
        "## Load Data"
      ],
      "metadata": {
        "id": "JiWmpsAHTL8F"
      }
    },
    {
      "cell_type": "code",
      "source": [
        "# Read, then decode for py2 compat.\n",
        "text = open(path_to_file, 'rb').read().decode(encoding='utf-8')\n",
        "# length of text is the number of characters in it\n",
        "print(f'Length of text: {len(text)} characters')"
      ],
      "metadata": {
        "colab": {
          "base_uri": "https://localhost:8080/"
        },
        "id": "amN6PL70UyTe",
        "outputId": "a0a53915-a78d-401b-816d-68b03239f0e0"
      },
      "execution_count": 27,
      "outputs": [
        {
          "output_type": "stream",
          "name": "stdout",
          "text": [
            "Length of text: 1115394 characters\n"
          ]
        }
      ]
    },
    {
      "cell_type": "code",
      "source": [
        "# Take a look at the first 250 characters in text\n",
        "print(text[:250])"
      ],
      "metadata": {
        "colab": {
          "base_uri": "https://localhost:8080/"
        },
        "id": "NgTdwXiWU0yf",
        "outputId": "59e64d06-f917-493f-8783-e296b0ada6d2"
      },
      "execution_count": 28,
      "outputs": [
        {
          "output_type": "stream",
          "name": "stdout",
          "text": [
            "First Citizen:\n",
            "Before we proceed any further, hear me speak.\n",
            "\n",
            "All:\n",
            "Speak, speak.\n",
            "\n",
            "First Citizen:\n",
            "You are all resolved rather to die than to famish?\n",
            "\n",
            "All:\n",
            "Resolved. resolved.\n",
            "\n",
            "First Citizen:\n",
            "First, you know Caius Marcius is chief enemy to the people.\n",
            "\n"
          ]
        }
      ]
    },
    {
      "cell_type": "code",
      "source": [
        "# The unique characters in the file\n",
        "vocab = sorted(set(text))\n",
        "print(f'{len(vocab)} unique characters')"
      ],
      "metadata": {
        "colab": {
          "base_uri": "https://localhost:8080/"
        },
        "id": "6_VoE71jU2fc",
        "outputId": "c0559c73-dcfd-4a89-86ce-145a1f21f830"
      },
      "execution_count": 29,
      "outputs": [
        {
          "output_type": "stream",
          "name": "stdout",
          "text": [
            "65 unique characters\n"
          ]
        }
      ]
    },
    {
      "cell_type": "markdown",
      "source": [
        "# **Olah Teks**"
      ],
      "metadata": {
        "id": "uEkQTiXqTNbN"
      }
    },
    {
      "cell_type": "markdown",
      "source": [
        "## Vectorize Teks"
      ],
      "metadata": {
        "id": "iQkbx1LiTPf7"
      }
    },
    {
      "cell_type": "code",
      "source": [
        "example_texts = ['abcdefg', 'xyz']\n",
        "chars = tf.strings.unicode_split(example_texts, input_encoding='UTF-8')\n",
        "chars"
      ],
      "metadata": {
        "colab": {
          "base_uri": "https://localhost:8080/"
        },
        "id": "H8z44TXFU3YO",
        "outputId": "32dd8c54-797f-47e7-b06b-61dcfb7ff6cc"
      },
      "execution_count": 30,
      "outputs": [
        {
          "output_type": "execute_result",
          "data": {
            "text/plain": [
              "<tf.RaggedTensor [[b'a', b'b', b'c', b'd', b'e', b'f', b'g'], [b'x', b'y', b'z']]>"
            ]
          },
          "metadata": {},
          "execution_count": 30
        }
      ]
    },
    {
      "cell_type": "code",
      "source": [
        "# sekarang buat tf.keras.layers.StringLookup layer:\n",
        "ids_from_chars = tf.keras.layers.StringLookup(\n",
        "vocabulary=list(vocab), mask_token=None)"
      ],
      "metadata": {
        "id": "gavu8pEUU_Cl"
      },
      "execution_count": 31,
      "outputs": []
    },
    {
      "cell_type": "code",
      "source": [
        "ids = ids_from_chars(chars)\n",
        "ids"
      ],
      "metadata": {
        "colab": {
          "base_uri": "https://localhost:8080/"
        },
        "id": "UvrveYvrVmyg",
        "outputId": "d69dd1d1-e564-4c99-cf5d-3abd1f666fe6"
      },
      "execution_count": 32,
      "outputs": [
        {
          "output_type": "execute_result",
          "data": {
            "text/plain": [
              "<tf.RaggedTensor [[40, 41, 42, 43, 44, 45, 46], [63, 64, 65]]>"
            ]
          },
          "metadata": {},
          "execution_count": 32
        }
      ]
    },
    {
      "cell_type": "code",
      "source": [
        "chars_from_ids = tf.keras.layers.StringLookup(\n",
        "    vocabulary=ids_from_chars.get_vocabulary(), invert=True, mask_token=None)"
      ],
      "metadata": {
        "id": "s1MMIuXSVuI9"
      },
      "execution_count": 33,
      "outputs": []
    },
    {
      "cell_type": "code",
      "source": [
        "chars = chars_from_ids(ids)\n",
        "chars"
      ],
      "metadata": {
        "colab": {
          "base_uri": "https://localhost:8080/"
        },
        "id": "Jx7gwiWUVwLZ",
        "outputId": "aec90924-a1f6-49a3-a0db-2b1a43c53b0b"
      },
      "execution_count": 34,
      "outputs": [
        {
          "output_type": "execute_result",
          "data": {
            "text/plain": [
              "<tf.RaggedTensor [[b'a', b'b', b'c', b'd', b'e', b'f', b'g'], [b'x', b'y', b'z']]>"
            ]
          },
          "metadata": {},
          "execution_count": 34
        }
      ]
    },
    {
      "cell_type": "code",
      "source": [
        "tf.strings.reduce_join(chars, axis=-1).numpy()"
      ],
      "metadata": {
        "colab": {
          "base_uri": "https://localhost:8080/"
        },
        "id": "rxSXZQHjV0nA",
        "outputId": "afa3d61c-12d2-45fa-a292-63320bf212b4"
      },
      "execution_count": 35,
      "outputs": [
        {
          "output_type": "execute_result",
          "data": {
            "text/plain": [
              "array([b'abcdefg', b'xyz'], dtype=object)"
            ]
          },
          "metadata": {},
          "execution_count": 35
        }
      ]
    },
    {
      "cell_type": "code",
      "source": [
        "def text_from_ids(ids):\n",
        "    return tf.strings.reduce_join(chars_from_ids(ids), axis=-1)"
      ],
      "metadata": {
        "id": "WLIJOHUsV2K2"
      },
      "execution_count": 36,
      "outputs": []
    },
    {
      "cell_type": "markdown",
      "source": [
        "## Prediksi, Membuat Trianing Set dan Target"
      ],
      "metadata": {
        "id": "LZiL7WrvTXbB"
      }
    },
    {
      "cell_type": "code",
      "source": [
        "all_ids = ids_from_chars(tf.strings.unicode_split(text, 'UTF-8'))\n",
        "all_ids"
      ],
      "metadata": {
        "colab": {
          "base_uri": "https://localhost:8080/"
        },
        "id": "xJr23JiQV8EF",
        "outputId": "64c0bda3-1c57-410f-d8c6-dfcf2be86fe9"
      },
      "execution_count": 37,
      "outputs": [
        {
          "output_type": "execute_result",
          "data": {
            "text/plain": [
              "<tf.Tensor: shape=(1115394,), dtype=int64, numpy=array([19, 48, 57, ..., 46,  9,  1])>"
            ]
          },
          "metadata": {},
          "execution_count": 37
        }
      ]
    },
    {
      "cell_type": "code",
      "source": [
        "ids_dataset = tf.data.Dataset.from_tensor_slices(all_ids)"
      ],
      "metadata": {
        "id": "o-YUnTy0V-UR"
      },
      "execution_count": 38,
      "outputs": []
    },
    {
      "cell_type": "code",
      "source": [
        "for ids in ids_dataset.take(10):\n",
        "    print(chars_from_ids(ids).numpy().decode('utf-8'))"
      ],
      "metadata": {
        "colab": {
          "base_uri": "https://localhost:8080/"
        },
        "id": "NpyS-PEBV_-W",
        "outputId": "7373f640-8fe2-413c-abc5-4fca8b20b6fd"
      },
      "execution_count": 39,
      "outputs": [
        {
          "output_type": "stream",
          "name": "stdout",
          "text": [
            "F\n",
            "i\n",
            "r\n",
            "s\n",
            "t\n",
            " \n",
            "C\n",
            "i\n",
            "t\n",
            "i\n"
          ]
        }
      ]
    },
    {
      "cell_type": "code",
      "source": [
        "seq_length = 100"
      ],
      "metadata": {
        "id": "2pAQ6qsBWFdO"
      },
      "execution_count": 40,
      "outputs": []
    },
    {
      "cell_type": "code",
      "source": [
        "sequences = ids_dataset.batch(seq_length+1, drop_remainder=True)\n",
        "\n",
        "for seq in sequences.take(1):\n",
        "  print(chars_from_ids(seq))"
      ],
      "metadata": {
        "colab": {
          "base_uri": "https://localhost:8080/"
        },
        "id": "2Wjf0zUdWIE1",
        "outputId": "3ef11399-4bf6-4dab-e9fb-511d3fd7e739"
      },
      "execution_count": 41,
      "outputs": [
        {
          "output_type": "stream",
          "name": "stdout",
          "text": [
            "tf.Tensor(\n",
            "[b'F' b'i' b'r' b's' b't' b' ' b'C' b'i' b't' b'i' b'z' b'e' b'n' b':'\n",
            " b'\\n' b'B' b'e' b'f' b'o' b'r' b'e' b' ' b'w' b'e' b' ' b'p' b'r' b'o'\n",
            " b'c' b'e' b'e' b'd' b' ' b'a' b'n' b'y' b' ' b'f' b'u' b'r' b't' b'h'\n",
            " b'e' b'r' b',' b' ' b'h' b'e' b'a' b'r' b' ' b'm' b'e' b' ' b's' b'p'\n",
            " b'e' b'a' b'k' b'.' b'\\n' b'\\n' b'A' b'l' b'l' b':' b'\\n' b'S' b'p' b'e'\n",
            " b'a' b'k' b',' b' ' b's' b'p' b'e' b'a' b'k' b'.' b'\\n' b'\\n' b'F' b'i'\n",
            " b'r' b's' b't' b' ' b'C' b'i' b't' b'i' b'z' b'e' b'n' b':' b'\\n' b'Y'\n",
            " b'o' b'u' b' '], shape=(101,), dtype=string)\n"
          ]
        }
      ]
    },
    {
      "cell_type": "code",
      "source": [
        "for seq in sequences.take(5):\n",
        "    print(text_from_ids(seq).numpy())"
      ],
      "metadata": {
        "colab": {
          "base_uri": "https://localhost:8080/"
        },
        "id": "KM728oOYWJDw",
        "outputId": "ce653799-9aff-4f4c-eabb-3e771c6bcba3"
      },
      "execution_count": 42,
      "outputs": [
        {
          "output_type": "stream",
          "name": "stdout",
          "text": [
            "b'First Citizen:\\nBefore we proceed any further, hear me speak.\\n\\nAll:\\nSpeak, speak.\\n\\nFirst Citizen:\\nYou '\n",
            "b'are all resolved rather to die than to famish?\\n\\nAll:\\nResolved. resolved.\\n\\nFirst Citizen:\\nFirst, you k'\n",
            "b\"now Caius Marcius is chief enemy to the people.\\n\\nAll:\\nWe know't, we know't.\\n\\nFirst Citizen:\\nLet us ki\"\n",
            "b\"ll him, and we'll have corn at our own price.\\nIs't a verdict?\\n\\nAll:\\nNo more talking on't; let it be d\"\n",
            "b'one: away, away!\\n\\nSecond Citizen:\\nOne word, good citizens.\\n\\nFirst Citizen:\\nWe are accounted poor citi'\n"
          ]
        }
      ]
    },
    {
      "cell_type": "code",
      "source": [
        "def split_input_target(sequence):\n",
        "    input_text = sequence[:-1]\n",
        "    target_text = sequence[1:]\n",
        "    return input_text, target_text"
      ],
      "metadata": {
        "id": "OZtnEpuCWPWw"
      },
      "execution_count": 43,
      "outputs": []
    },
    {
      "cell_type": "code",
      "source": [
        "split_input_target(list(\"Tensorflow\"))"
      ],
      "metadata": {
        "colab": {
          "base_uri": "https://localhost:8080/"
        },
        "id": "1JpwoDN-Wbup",
        "outputId": "70c79ea5-9156-453f-a8e8-f67db70ced3f"
      },
      "execution_count": 44,
      "outputs": [
        {
          "output_type": "execute_result",
          "data": {
            "text/plain": [
              "(['T', 'e', 'n', 's', 'o', 'r', 'f', 'l', 'o'],\n",
              " ['e', 'n', 's', 'o', 'r', 'f', 'l', 'o', 'w'])"
            ]
          },
          "metadata": {},
          "execution_count": 44
        }
      ]
    },
    {
      "cell_type": "code",
      "source": [
        "dataset = sequences.map(split_input_target)"
      ],
      "metadata": {
        "id": "7KDO2lRZWu_e"
      },
      "execution_count": 45,
      "outputs": []
    },
    {
      "cell_type": "code",
      "source": [
        "for input_example, target_example in dataset.take(1):\n",
        "    print(\"Input :\", text_from_ids(input_example).numpy())\n",
        "    print(\"Target:\", text_from_ids(target_example).numpy())"
      ],
      "metadata": {
        "colab": {
          "base_uri": "https://localhost:8080/"
        },
        "id": "gykXyNESWx6N",
        "outputId": "6d5a10ba-4707-4959-c043-24efe0d4472e"
      },
      "execution_count": 46,
      "outputs": [
        {
          "output_type": "stream",
          "name": "stdout",
          "text": [
            "Input : b'First Citizen:\\nBefore we proceed any further, hear me speak.\\n\\nAll:\\nSpeak, speak.\\n\\nFirst Citizen:\\nYou'\n",
            "Target: b'irst Citizen:\\nBefore we proceed any further, hear me speak.\\n\\nAll:\\nSpeak, speak.\\n\\nFirst Citizen:\\nYou '\n"
          ]
        }
      ]
    },
    {
      "cell_type": "markdown",
      "source": [
        "## Membuat Batch Training"
      ],
      "metadata": {
        "id": "flF00_iSTsLW"
      }
    },
    {
      "cell_type": "code",
      "source": [
        "# Batch size\n",
        "BATCH_SIZE = 64\n",
        "\n",
        "# Buffer size to shuffle the dataset\n",
        "# (TF data is designed to work with possibly infinite sequences,\n",
        "# so it doesn't attempt to shuffle the entire sequence in memory. Instead,\n",
        "# it maintains a buffer in which it shuffles elements).\n",
        "BUFFER_SIZE = 10000\n",
        "\n",
        "dataset = (\n",
        "    dataset\n",
        "    .shuffle(BUFFER_SIZE)\n",
        "    .batch(BATCH_SIZE, drop_remainder=True)\n",
        "    .prefetch(tf.data.experimental.AUTOTUNE))\n",
        "\n",
        "dataset"
      ],
      "metadata": {
        "colab": {
          "base_uri": "https://localhost:8080/"
        },
        "id": "5HRnsYunXFV5",
        "outputId": "3bf6c6f1-6aef-412d-f6af-30c143204060"
      },
      "execution_count": 47,
      "outputs": [
        {
          "output_type": "execute_result",
          "data": {
            "text/plain": [
              "<_PrefetchDataset element_spec=(TensorSpec(shape=(64, 100), dtype=tf.int64, name=None), TensorSpec(shape=(64, 100), dtype=tf.int64, name=None))>"
            ]
          },
          "metadata": {},
          "execution_count": 47
        }
      ]
    },
    {
      "cell_type": "markdown",
      "source": [
        "# **Buat Model**"
      ],
      "metadata": {
        "id": "rWZnLa22Tuj9"
      }
    },
    {
      "cell_type": "markdown",
      "source": [
        "tf.keras.layers.Embedding: Lapisan masukan. Tabel pencarian yang dapat dilatih yang akan memetakan setiap karakter-ID ke vektor dengan dimensi embedding_dim;"
      ],
      "metadata": {
        "id": "MlENhF4ETw1V"
      }
    },
    {
      "cell_type": "code",
      "source": [
        "# Length of the vocabulary in StringLookup Layer\n",
        "vocab_size = len(ids_from_chars.get_vocabulary())\n",
        "\n",
        "# The embedding dimension\n",
        "embedding_dim = 256\n",
        "\n",
        "# Number of RNN units\n",
        "rnn_units = 1024"
      ],
      "metadata": {
        "id": "CDP0t9QEenR6"
      },
      "execution_count": 48,
      "outputs": []
    },
    {
      "cell_type": "markdown",
      "source": [
        "tf.keras.layers.GRU: lapisan RNN dengan ukuran unit=rnn_units (Anda juga dapat menggunakan lapisan LSTM di sini.)"
      ],
      "metadata": {
        "id": "aChOePyQT0yN"
      }
    },
    {
      "cell_type": "code",
      "source": [
        "class MyModel(tf.keras.Model):\n",
        "  def __init__(self, vocab_size, embedding_dim, rnn_units):\n",
        "    super().__init__(self)\n",
        "    self.embedding = tf.keras.layers.Embedding(vocab_size, embedding_dim)\n",
        "    self.gru = tf.keras.layers.GRU(rnn_units,\n",
        "                                   return_sequences=True,\n",
        "                                   return_state=True)\n",
        "    self.dense = tf.keras.layers.Dense(vocab_size)\n",
        "\n",
        "  def call(self, inputs, states=None, return_state=False, training=False):\n",
        "    x = inputs\n",
        "    x = self.embedding(x, training=training)\n",
        "    if states is None:\n",
        "      states = self.gru.get_initial_state(x)\n",
        "    x, states = self.gru(x, initial_state=states, training=training)\n",
        "    x = self.dense(x, training=training)\n",
        "\n",
        "    if return_state:\n",
        "      return x, states\n",
        "    else:\n",
        "      return x"
      ],
      "metadata": {
        "id": "lel5Uad1eooq"
      },
      "execution_count": 49,
      "outputs": []
    },
    {
      "cell_type": "markdown",
      "source": [
        "tf.keras.layers.Dense: Lapisan keluaran, dengan keluaran vocab_size. Ini menghasilkan satu logit untuk setiap karakter dalam kosakata. Ini adalah log kemungkinan setiap karakter menurut model."
      ],
      "metadata": {
        "id": "jiroLRszT3EO"
      }
    },
    {
      "cell_type": "code",
      "source": [
        "model = MyModel(\n",
        "    vocab_size=vocab_size,\n",
        "    embedding_dim=embedding_dim,\n",
        "    rnn_units=rnn_units)"
      ],
      "metadata": {
        "id": "HFZUzmueerfd"
      },
      "execution_count": 50,
      "outputs": []
    },
    {
      "cell_type": "markdown",
      "source": [
        "# **Uji Model**"
      ],
      "metadata": {
        "id": "kpf-8gC3T5NU"
      }
    },
    {
      "cell_type": "markdown",
      "source": [
        "## Cek bentuk dari output"
      ],
      "metadata": {
        "id": "DR1rA2pxT7JM"
      }
    },
    {
      "cell_type": "code",
      "source": [
        "for input_example_batch, target_example_batch in dataset.take(1):\n",
        "    example_batch_predictions = model(input_example_batch)\n",
        "    print(example_batch_predictions.shape, \"# (batch_size, sequence_length, vocab_size)\")"
      ],
      "metadata": {
        "colab": {
          "base_uri": "https://localhost:8080/"
        },
        "id": "rQlxRi2YfL3I",
        "outputId": "b468d0c1-a80d-493f-ff9f-a1d829269806"
      },
      "execution_count": 51,
      "outputs": [
        {
          "output_type": "stream",
          "name": "stdout",
          "text": [
            "(64, 100, 66) # (batch_size, sequence_length, vocab_size)\n"
          ]
        }
      ]
    },
    {
      "cell_type": "markdown",
      "source": [
        "## Masukan dengan panjang berapa pun"
      ],
      "metadata": {
        "id": "D295E_LKUAmq"
      }
    },
    {
      "cell_type": "code",
      "source": [
        "model.summary()"
      ],
      "metadata": {
        "colab": {
          "base_uri": "https://localhost:8080/"
        },
        "id": "87A36b08fSn3",
        "outputId": "b431767a-1ea5-4090-c917-21e6a607ea7e"
      },
      "execution_count": 52,
      "outputs": [
        {
          "output_type": "stream",
          "name": "stdout",
          "text": [
            "Model: \"my_model\"\n",
            "_________________________________________________________________\n",
            " Layer (type)                Output Shape              Param #   \n",
            "=================================================================\n",
            " embedding_2 (Embedding)     multiple                  16896     \n",
            "                                                                 \n",
            " gru (GRU)                   multiple                  3938304   \n",
            "                                                                 \n",
            " dense_4 (Dense)             multiple                  67650     \n",
            "                                                                 \n",
            "=================================================================\n",
            "Total params: 4022850 (15.35 MB)\n",
            "Trainable params: 4022850 (15.35 MB)\n",
            "Non-trainable params: 0 (0.00 Byte)\n",
            "_________________________________________________________________\n"
          ]
        }
      ]
    },
    {
      "cell_type": "markdown",
      "source": [
        "## Mengambil sampel dari distribusi keluaran"
      ],
      "metadata": {
        "id": "W7ThwfNBUCgE"
      }
    },
    {
      "cell_type": "code",
      "source": [
        "sampled_indices = tf.random.categorical(example_batch_predictions[0], num_samples=1)\n",
        "sampled_indices = tf.squeeze(sampled_indices, axis=-1).numpy()"
      ],
      "metadata": {
        "id": "nzk26TUPfT2O"
      },
      "execution_count": 53,
      "outputs": []
    },
    {
      "cell_type": "markdown",
      "source": [
        "## Prediksi indeks karakter berikutnya"
      ],
      "metadata": {
        "id": "y4UUtt_jUEMY"
      }
    },
    {
      "cell_type": "code",
      "source": [
        "sampled_indices"
      ],
      "metadata": {
        "colab": {
          "base_uri": "https://localhost:8080/"
        },
        "id": "jEhBaMo7fp-I",
        "outputId": "14b39e65-f0a2-4d55-da80-0c9a5d75be36"
      },
      "execution_count": 54,
      "outputs": [
        {
          "output_type": "execute_result",
          "data": {
            "text/plain": [
              "array([16, 11, 20, 36,  3, 51, 39, 10, 29, 27, 64, 25, 38, 18,  4, 36, 22,\n",
              "       34, 55, 27, 62, 37, 18, 52, 49, 27, 27, 13, 24, 56, 55, 57,  5,  7,\n",
              "       10, 13, 43, 36, 53, 23,  1, 12, 36, 31, 55, 27, 30,  5, 30, 32, 38,\n",
              "       54, 64, 30, 12, 14, 52, 65, 44,  0, 31, 37, 10,  4, 61, 30, 23,  3,\n",
              "       42, 37, 38, 36, 44, 31,  2, 64,  6, 34, 33, 64, 41,  1, 38, 21, 24,\n",
              "       11, 52,  3, 21, 49,  6, 41, 31, 56, 24, 18, 62, 65,  4,  7])"
            ]
          },
          "metadata": {},
          "execution_count": 54
        }
      ]
    },
    {
      "cell_type": "markdown",
      "source": [
        "## Melihat teks yang diprediksi oleh model tidak terlatih ini"
      ],
      "metadata": {
        "id": "tx3VfpB0UF3o"
      }
    },
    {
      "cell_type": "code",
      "source": [
        "print(\"Input:\\n\", text_from_ids(input_example_batch[0]).numpy())\n",
        "print()\n",
        "print(\"Next Char Predictions:\\n\", text_from_ids(sampled_indices).numpy())"
      ],
      "metadata": {
        "colab": {
          "base_uri": "https://localhost:8080/"
        },
        "id": "cZPGMgLNft9Y",
        "outputId": "4efbd834-9e22-41fe-ab17-0a049d223c8a"
      },
      "execution_count": 55,
      "outputs": [
        {
          "output_type": "stream",
          "name": "stdout",
          "text": [
            "Input:\n",
            " b' I for comfort have but one false glass,\\nWhich grieves me when I see my shame in him.\\nThou art a wid'\n",
            "\n",
            "Next Char Predictions:\n",
            " b\"C:GW!lZ3PNyLYE$WIUpNwXEmjNN?Kqpr&,3?dWnJ\\n;WRpNQ&QSYoyQ;Amze[UNK]RX3$vQJ!cXYWeR y'UTyb\\nYHK:m!Hj'bRqKEwz$,\"\n"
          ]
        }
      ]
    },
    {
      "cell_type": "markdown",
      "source": [
        "# **Train Model**"
      ],
      "metadata": {
        "id": "BCw7i03-UHT9"
      }
    },
    {
      "cell_type": "markdown",
      "source": [
        "## Tambahan optimizer dan fungsi loss"
      ],
      "metadata": {
        "id": "jWx2ZATbUMSN"
      }
    },
    {
      "cell_type": "code",
      "source": [
        "loss = tf.losses.SparseCategoricalCrossentropy(from_logits=True)"
      ],
      "metadata": {
        "id": "zKk5Zt5TgQD5"
      },
      "execution_count": 56,
      "outputs": []
    },
    {
      "cell_type": "code",
      "source": [
        "example_batch_mean_loss = loss(target_example_batch, example_batch_predictions)\n",
        "print(\"Prediction shape: \", example_batch_predictions.shape, \" # (batch_size, sequence_length, vocab_size)\")\n",
        "print(\"Mean loss:        \", example_batch_mean_loss)"
      ],
      "metadata": {
        "colab": {
          "base_uri": "https://localhost:8080/"
        },
        "id": "2fQZvNaagSR1",
        "outputId": "d71ced34-66d8-43e5-9adf-5a0d226b431f"
      },
      "execution_count": 57,
      "outputs": [
        {
          "output_type": "stream",
          "name": "stdout",
          "text": [
            "Prediction shape:  (64, 100, 66)  # (batch_size, sequence_length, vocab_size)\n",
            "Mean loss:         tf.Tensor(4.191305, shape=(), dtype=float32)\n"
          ]
        }
      ]
    },
    {
      "cell_type": "code",
      "source": [
        "tf.exp(example_batch_mean_loss).numpy()"
      ],
      "metadata": {
        "colab": {
          "base_uri": "https://localhost:8080/"
        },
        "id": "HCBOlWBJgzI8",
        "outputId": "8b6b3a06-a359-4a1d-c67e-9badda1668f2"
      },
      "execution_count": 58,
      "outputs": [
        {
          "output_type": "execute_result",
          "data": {
            "text/plain": [
              "66.10902"
            ]
          },
          "metadata": {},
          "execution_count": 58
        }
      ]
    },
    {
      "cell_type": "code",
      "source": [
        "model.compile(optimizer='adam', loss=loss)"
      ],
      "metadata": {
        "id": "dMgJTfgmg0j3"
      },
      "execution_count": 59,
      "outputs": []
    },
    {
      "cell_type": "markdown",
      "source": [
        "## Konfigurasi Checkpoints"
      ],
      "metadata": {
        "id": "bzoP4IMnUOb6"
      }
    },
    {
      "cell_type": "code",
      "source": [
        "# Directory where the checkpoints will be saved\n",
        "checkpoint_dir = './training_checkpoints'\n",
        "# Name of the checkpoint files\n",
        "checkpoint_prefix = os.path.join(checkpoint_dir, \"ckpt_{epoch}\")\n",
        "\n",
        "checkpoint_callback = tf.keras.callbacks.ModelCheckpoint(\n",
        "    filepath=checkpoint_prefix,\n",
        "    save_weights_only=True)"
      ],
      "metadata": {
        "id": "wxgJGzgThAMq"
      },
      "execution_count": 60,
      "outputs": []
    },
    {
      "cell_type": "markdown",
      "source": [
        "## Lakukan Proses Training"
      ],
      "metadata": {
        "id": "a6uaJ3EjUP-N"
      }
    },
    {
      "cell_type": "code",
      "source": [
        "EPOCHS = 20"
      ],
      "metadata": {
        "id": "g3rBmhLihB9K"
      },
      "execution_count": 61,
      "outputs": []
    },
    {
      "cell_type": "code",
      "source": [
        "history = model.fit(dataset, epochs=EPOCHS, callbacks=[checkpoint_callback])"
      ],
      "metadata": {
        "colab": {
          "base_uri": "https://localhost:8080/"
        },
        "id": "pjA0EkeqhEqb",
        "outputId": "f88d9cc7-f74f-4218-fafb-f981a9ac2b2b"
      },
      "execution_count": 62,
      "outputs": [
        {
          "output_type": "stream",
          "name": "stdout",
          "text": [
            "Epoch 1/20\n",
            "172/172 [==============================] - 13s 57ms/step - loss: 2.7414\n",
            "Epoch 2/20\n",
            "172/172 [==============================] - 13s 57ms/step - loss: 1.9952\n",
            "Epoch 3/20\n",
            "172/172 [==============================] - 13s 59ms/step - loss: 1.7157\n",
            "Epoch 4/20\n",
            "172/172 [==============================] - 11s 56ms/step - loss: 1.5511\n",
            "Epoch 5/20\n",
            "172/172 [==============================] - 11s 57ms/step - loss: 1.4520\n",
            "Epoch 6/20\n",
            "172/172 [==============================] - 11s 56ms/step - loss: 1.3839\n",
            "Epoch 7/20\n",
            "172/172 [==============================] - 11s 57ms/step - loss: 1.3318\n",
            "Epoch 8/20\n",
            "172/172 [==============================] - 12s 56ms/step - loss: 1.2867\n",
            "Epoch 9/20\n",
            "172/172 [==============================] - 13s 58ms/step - loss: 1.2458\n",
            "Epoch 10/20\n",
            "172/172 [==============================] - 13s 58ms/step - loss: 1.2057\n",
            "Epoch 11/20\n",
            "172/172 [==============================] - 12s 57ms/step - loss: 1.1660\n",
            "Epoch 12/20\n",
            "172/172 [==============================] - 12s 57ms/step - loss: 1.1244\n",
            "Epoch 13/20\n",
            "172/172 [==============================] - 12s 56ms/step - loss: 1.0808\n",
            "Epoch 14/20\n",
            "172/172 [==============================] - 12s 56ms/step - loss: 1.0353\n",
            "Epoch 15/20\n",
            "172/172 [==============================] - 12s 56ms/step - loss: 0.9867\n",
            "Epoch 16/20\n",
            "172/172 [==============================] - 11s 56ms/step - loss: 0.9354\n",
            "Epoch 17/20\n",
            "172/172 [==============================] - 12s 57ms/step - loss: 0.8837\n",
            "Epoch 18/20\n",
            "172/172 [==============================] - 11s 56ms/step - loss: 0.8311\n",
            "Epoch 19/20\n",
            "172/172 [==============================] - 11s 57ms/step - loss: 0.7794\n",
            "Epoch 20/20\n",
            "172/172 [==============================] - 12s 55ms/step - loss: 0.7316\n"
          ]
        }
      ]
    },
    {
      "cell_type": "markdown",
      "source": [
        "# **Generate Teks**"
      ],
      "metadata": {
        "id": "0t-fD5zvURU1"
      }
    },
    {
      "cell_type": "code",
      "source": [
        "class OneStep(tf.keras.Model):\n",
        "  def __init__(self, model, chars_from_ids, ids_from_chars, temperature=1.0):\n",
        "    super().__init__()\n",
        "    self.temperature = temperature\n",
        "    self.model = model\n",
        "    self.chars_from_ids = chars_from_ids\n",
        "    self.ids_from_chars = ids_from_chars\n",
        "\n",
        "    # Create a mask to prevent \"[UNK]\" from being generated.\n",
        "    skip_ids = self.ids_from_chars(['[UNK]'])[:, None]\n",
        "    sparse_mask = tf.SparseTensor(\n",
        "        # Put a -inf at each bad index.\n",
        "        values=[-float('inf')]*len(skip_ids),\n",
        "        indices=skip_ids,\n",
        "        # Match the shape to the vocabulary\n",
        "        dense_shape=[len(ids_from_chars.get_vocabulary())])\n",
        "    self.prediction_mask = tf.sparse.to_dense(sparse_mask)\n",
        "\n",
        "  @tf.function\n",
        "  def generate_one_step(self, inputs, states=None):\n",
        "    # Convert strings to token IDs.\n",
        "    input_chars = tf.strings.unicode_split(inputs, 'UTF-8')\n",
        "    input_ids = self.ids_from_chars(input_chars).to_tensor()\n",
        "\n",
        "    # Run the model.\n",
        "    # predicted_logits.shape is [batch, char, next_char_logits]\n",
        "    predicted_logits, states = self.model(inputs=input_ids, states=states,\n",
        "                                          return_state=True)\n",
        "    # Only use the last prediction.\n",
        "    predicted_logits = predicted_logits[:, -1, :]\n",
        "    predicted_logits = predicted_logits/self.temperature\n",
        "    # Apply the prediction mask: prevent \"[UNK]\" from being generated.\n",
        "    predicted_logits = predicted_logits + self.prediction_mask\n",
        "\n",
        "    # Sample the output logits to generate token IDs.\n",
        "    predicted_ids = tf.random.categorical(predicted_logits, num_samples=1)\n",
        "    predicted_ids = tf.squeeze(predicted_ids, axis=-1)\n",
        "\n",
        "    # Convert from token ids to characters\n",
        "    predicted_chars = self.chars_from_ids(predicted_ids)\n",
        "\n",
        "    # Return the characters and model state.\n",
        "    return predicted_chars, states"
      ],
      "metadata": {
        "id": "ESm8MWPghUEA"
      },
      "execution_count": 63,
      "outputs": []
    },
    {
      "cell_type": "code",
      "source": [
        "one_step_model = OneStep(model, chars_from_ids, ids_from_chars)"
      ],
      "metadata": {
        "id": "0I1A0ZFuhVrv"
      },
      "execution_count": 64,
      "outputs": []
    },
    {
      "cell_type": "code",
      "source": [
        "start = time.time()\n",
        "states = None\n",
        "next_char = tf.constant(['ROMEO:'])\n",
        "result = [next_char]\n",
        "\n",
        "for n in range(1000):\n",
        "  next_char, states = one_step_model.generate_one_step(next_char, states=states)\n",
        "  result.append(next_char)\n",
        "\n",
        "result = tf.strings.join(result)\n",
        "end = time.time()\n",
        "print(result[0].numpy().decode('utf-8'), '\\n\\n' + '_'*80)\n",
        "print('\\nRun time:', end - start)"
      ],
      "metadata": {
        "colab": {
          "base_uri": "https://localhost:8080/"
        },
        "id": "Y1N7cFjhhalc",
        "outputId": "bef271fd-c7f6-49db-bc55-cc193801b76d"
      },
      "execution_count": 65,
      "outputs": [
        {
          "output_type": "stream",
          "name": "stdout",
          "text": [
            "ROMEO:\n",
            "And must be ready.\n",
            "\n",
            "Roman:\n",
            "Was not my design? no, though ne'er good\n",
            "upon thieves; hence with wings of Luncaster leads\n",
            "Imends and folks and patry in the county.\n",
            "\n",
            "DUCHESS OF YORK:\n",
            "What, will my bond after thee?\n",
            "\n",
            "GRUMIO:\n",
            "She was, I know thy county was a man,\n",
            "Though rehem ever be not to be passing me:\n",
            "Nay, loving friends, that cannot live\n",
            "That which you are mere jocund.\n",
            "\n",
            "LUCIO:\n",
            "I never saw you so reciven and return'd his holing\n",
            "boning dismal here in Bohemia, they but reading me\n",
            "Thy lightness unto a rouble of chasts\n",
            "to make it fled to thee and craves. Thou know'st\n",
            "That it was married to our country bears,\n",
            "And sacing stretch thy lips and death both begun.\n",
            "Upon thy father Camillo Walwing hit him meane?\n",
            "\n",
            "QUEEN ELIZABETH:\n",
            "By this island we will come; therefore prepare him!\n",
            "\n",
            "Tubour back.\n",
            "\n",
            "SLY:\n",
            "I'll keep my bliss. Will this be previneable for us!\n",
            "\n",
            "GLOUCESTER:\n",
            "My lord, I could not be spoke of; for 'her's humoured,\n",
            "No bigger and heil of his judgment Duke of hell.\n",
            "This name to call the power to the \n",
            "\n",
            "________________________________________________________________________________\n",
            "\n",
            "Run time: 3.2919671535491943\n"
          ]
        }
      ]
    },
    {
      "cell_type": "code",
      "source": [
        "start = time.time()\n",
        "states = None\n",
        "next_char = tf.constant(['ROMEO:', 'ROMEO:', 'ROMEO:', 'ROMEO:', 'ROMEO:'])\n",
        "result = [next_char]\n",
        "\n",
        "for n in range(1000):\n",
        "  next_char, states = one_step_model.generate_one_step(next_char, states=states)\n",
        "  result.append(next_char)\n",
        "\n",
        "result = tf.strings.join(result)\n",
        "end = time.time()\n",
        "print(result, '\\n\\n' + '_'*80)\n",
        "print('\\nRun time:', end - start)"
      ],
      "metadata": {
        "colab": {
          "base_uri": "https://localhost:8080/"
        },
        "id": "sePzDh1mhbXd",
        "outputId": "d19b77f1-9346-482f-b0c7-3a5754b408a4"
      },
      "execution_count": 66,
      "outputs": [
        {
          "output_type": "stream",
          "name": "stdout",
          "text": [
            "tf.Tensor(\n",
            "[b\"ROMEO:\\nO, sir, I am struck with thee?\\n\\nLARTIUS:\\nThis is the point of quarrel of the king;\\nThen let befain use parden fe:\\nDid but weather's place home. Play her! I have\\nholded sent: tell me he will say than tongue\\nWill over that our birth'd lives, the other talk'd\\nAs if he died at kingdom, not this young prince,\\nand title lain wrought it not, nor noble three,\\nI'll prove them; but he must die for him;\\nIt will be loop'd on Richard's son, as well\\nwe were upon the childs or levour.\\n\\nSecond Citizen:\\nI mean these self.\\n\\nDUKE OF YORK:\\nHere, he is an hour since: he might painted in.\\n\\nJULIET:\\nAway, away. Tail nothing but most wisdom in the war,\\nHow to be seit but my love's i'state,\\nNot whited heavenly heir to-morrow.\\nI would my sight she will be Werriod Show you from being knowledge.\\n\\nGLOUCESTER:\\nAt thy nurse! for Edward Part! But yet, thou know'st\\nThy true hither away towards Lancaster to our Irranct, I will look on.\\n\\nSecond Citizen:\\nAy, and this my sovereign; whose burn beasts\\nAt when the matter: gi\"\n",
            " b\"ROMEO:\\nThus with my business in this city Lieread of thy wit:\\nHe die in their own winds: therefore prepare to like\\nAnd Henry but with their bowing up,\\nWhich overta'en madest usurp shums and the\\nfairer blood. But who knows her one perform?\\n\\nDUKE VINCENTIO:\\nIt is no time to mercy.\\n\\nDUKE VINCENTIO:\\nWell, sir: we want not light, Prince Of Claudio,\\nEven now with rigoping from my sight?\\nFirst God we king. To Lambassarder\\nOf her full eyes, whose porting cloice\\nThat Henry lighter than thy life troubled with haste;\\nThat I shall not hear them that ha's maiden bad.\\nBut Warwick makes us friend with driempht north, and make me gave him he\\nwith his foing a traitor ribage, Buckingham.\\n\\nCAPULET:\\nWhat, my remember more than this time,\\nWhat absolute up, boldly ontent.\\nNow ave call me from that her princely brain!\\nAn han indeed laugh what we came on another be more\\nat the news for him, or thou hast the which I have an\\nindivers and enough.\\nHere will ve see it is.\\n\\nLUCENTIO:\\nAs with themselves; but they are not \"\n",
            " b\"ROMEO:\\nOn Thursday, to expose the mouth of mind,\\nCall thine enforced me to thy dear:\\nIt shall bring Bianca found you have.\\n\\nSICINIUS:\\nWell that, I say.\\n\\nISABELLA:\\nI am sorry of my friends?\\nI tell 'em, and now Grew on him.\\n\\nFirst Gentleman:\\nWhat, have I grieved now that be?\\nHie thee to that oftice but Hastings, who was wont.\\n\\nRICHARD:\\nThou didst make me speak fight, if a king, pierced by much.\\nGive me this face of death.'\\n\\nSICINIUS:\\nPearling abson to justifies!\\nGood Claudio!\\n\\nCLAUDIO:\\nAy, but.\\n\\nJULIET:\\nThat fellow was the common to tears.\\n\\nKING RICHARD III:\\nCome, pardon With his bring from thee!\\nNow will perform sting to do, in me\\nThe father of the state, that he replies,\\nAs you demand a poison, where it blows?\\n\\nGLOUCESTER:\\nSay, keep to weeping, though thy sight shall be thy fight,\\nNot doint what with her, sir?\\n\\nANTIGONUS:\\nPray you, go it.\\n\\nKATHARINA:\\nAt their own revolts, with two sever sad\\nBemote their profits o' the crown,\\nWhose hap of philosophy point,\\nAs if you will perform you; then aft\"\n",
            " b\"ROMEO:\\nThe least let me perform it up,\\nI'll give me years with wish'd brow; Norfoll Iries,\\nTell me leave it; and, with like his warlike keeps\\nAnd warrant for their blows upon thy death.\\n\\nBENVOLIO:\\nWhy, how now, monage! the fourage may be advised\\nFrom giving itself that never 'emperant to do our birth.\\n\\nPERDITA:\\nI'll be here on his kindness, when he did\\nO, the body of the lights, their men in post\\nAnd sevenderous life let spen toward.\\nFor shrife all fing, or that yields the castle walls,\\nAnd the sud blood natures disprinking out your loved me Duke of Lodd of York,\\nFor he is ninedon and my natures\\nby my trespass should deway'd be mine,\\nLest it rentires; the earldom of our discontent.\\n\\nKING RICHARD II:\\nWelcome, my lord; I say, king but no villanous time,\\nFor this dreamness for this discover'd off,\\nCurtherers are plaints to unfortunate.\\nWhat, how is come to runn, farewell! I say, be stof, the rest\\nWhilst you have help to royalty, and lasting fear'd as I am\\nout of his phates for consent to have d\"\n",
            " b\"ROMEO:\\nO, say my heart, forbea!\\n\\nNurse:\\nO God o' thy absent duke!\\n\\nGLOUCESTER:\\nYet one pardon for our thousand coronation;\\nFor whom, unjustly too, and am.\\nKing Richard, Henry the Fortune our side\\nRoward his mother's name of mercy, weakness,\\nbut where he might doing abroad;\\nWhite redemptions and your husbands for yourself.\\n\\nJULIET:\\nO Clarence, he doth bid like sorrow be abouted\\nI shall be rukedoment work. This doubled\\ngave me less in other in his phemasor.\\nTo the subdeciting Apolloss.\\nI will marry you. You power,\\nTo thut thy spirits and thy face,\\nEre I live to have no more ado. Did not be mine?\\nAnsir is it, my lord; I slew your hands for him:\\nso puts your patience comes one of you.\\n\\nCORIOLANUS:\\nWhence come?\\n\\nGroUCIS:\\nAy, and the burthen of my faith pray.\\nThree-quarters on, this Charity, o'er these\\nworst of it, it must not perceive 'twixt your company:\\nI'll helm that's but mementers. Wh those whoe remove\\nthou art the mest fall then at your close burds blasks:\\nTherefore we part.\\n\\nHERMIONE:\\nExet\"], shape=(5,), dtype=string) \n",
            "\n",
            "________________________________________________________________________________\n",
            "\n",
            "Run time: 4.392653942108154\n"
          ]
        }
      ]
    },
    {
      "cell_type": "markdown",
      "source": [
        "# **Ekspor Model Generator**"
      ],
      "metadata": {
        "id": "FpHTg-jGUa3c"
      }
    },
    {
      "cell_type": "code",
      "source": [
        "tf.saved_model.save(one_step_model, 'one_step')\n",
        "one_step_reloaded = tf.saved_model.load('one_step')"
      ],
      "metadata": {
        "colab": {
          "base_uri": "https://localhost:8080/"
        },
        "id": "22Mk394ahdy_",
        "outputId": "cda5030b-5895-4637-bdec-a0daf65361bf"
      },
      "execution_count": 67,
      "outputs": [
        {
          "output_type": "stream",
          "name": "stderr",
          "text": [
            "WARNING:tensorflow:Skipping full serialization of Keras layer <__main__.OneStep object at 0x7dcfec78f9d0>, because it is not built.\n",
            "WARNING:tensorflow:Model's `__init__()` arguments contain non-serializable objects. Please implement a `get_config()` method in the subclassed Model for proper saving and loading. Defaulting to empty config.\n",
            "WARNING:tensorflow:Model's `__init__()` arguments contain non-serializable objects. Please implement a `get_config()` method in the subclassed Model for proper saving and loading. Defaulting to empty config.\n"
          ]
        }
      ]
    },
    {
      "cell_type": "code",
      "source": [
        "states = None\n",
        "next_char = tf.constant(['ROMEO:'])\n",
        "result = [next_char]\n",
        "\n",
        "for n in range(100):\n",
        "  next_char, states = one_step_reloaded.generate_one_step(next_char, states=states)\n",
        "  result.append(next_char)\n",
        "\n",
        "print(tf.strings.join(result)[0].numpy().decode(\"utf-8\"))"
      ],
      "metadata": {
        "colab": {
          "base_uri": "https://localhost:8080/"
        },
        "id": "AQmde9N_hjSx",
        "outputId": "4a4a3aca-46d7-4c71-bb52-6a21c31c81f1"
      },
      "execution_count": 68,
      "outputs": [
        {
          "output_type": "stream",
          "name": "stdout",
          "text": [
            "ROMEO:\n",
            "Then fair queen, that he hath done me wrong.\n",
            "\n",
            "KING RICHARD II:\n",
            "Good like, young bannstly that we cr\n"
          ]
        }
      ]
    },
    {
      "cell_type": "markdown",
      "source": [
        "# **TUGAS**"
      ],
      "metadata": {
        "id": "kw3WVC8tiDAj"
      }
    },
    {
      "cell_type": "markdown",
      "source": [
        "## **Prosedurnya adalah:**\n"
      ],
      "metadata": {
        "id": "3kwy7glMiGMT"
      }
    },
    {
      "cell_type": "markdown",
      "source": [
        "1. Jalankan Model dan hitung loss dengan tf.GradientTape."
      ],
      "metadata": {
        "id": "OU1D2YkMiS05"
      }
    },
    {
      "cell_type": "markdown",
      "source": [
        "2. Hitung update dan terapkan pada model dengan optimizer"
      ],
      "metadata": {
        "id": "mW4ult90iXVb"
      }
    },
    {
      "cell_type": "code",
      "source": [
        "class CustomTraining(MyModel):\n",
        "  @tf.function\n",
        "  def train_step(self, inputs):\n",
        "      inputs, labels = inputs\n",
        "      with tf.GradientTape() as tape:\n",
        "          predictions = self(inputs, training=True)\n",
        "          loss = self.loss(labels, predictions)\n",
        "          grads = tape.gradient(loss, model.trainable_variables)\n",
        "      self.optimizer.apply_gradients(zip(grads, model.trainable_variables))\n",
        "\n",
        "      return {'loss': loss}"
      ],
      "metadata": {
        "id": "6KZqb6-px_-2"
      },
      "execution_count": 69,
      "outputs": []
    },
    {
      "cell_type": "markdown",
      "source": [
        "> Kode diatas menerapkan train_step method sesuai dengan  Keras' train_step conventions. Ini opsional, tetapi memungkinkan Anda mengubah perilaku langkah pelatihan dan tetap menggunakan keras Model.compile and Model.fit methods.\n",
        "\n"
      ],
      "metadata": {
        "id": "n659BRXAiiJB"
      }
    },
    {
      "cell_type": "code",
      "source": [
        "model = CustomTraining(\n",
        "    vocab_size=len(ids_from_chars.get_vocabulary()),\n",
        "    embedding_dim=embedding_dim,\n",
        "    rnn_units=rnn_units)"
      ],
      "metadata": {
        "id": "hMEUx81gyJgO"
      },
      "execution_count": 70,
      "outputs": []
    },
    {
      "cell_type": "code",
      "source": [
        "model.compile(optimizer = tf.keras.optimizers.Adam(),\n",
        "              loss=tf.keras.losses.SparseCategoricalCrossentropy(from_logits=True))"
      ],
      "metadata": {
        "id": "d05e4dizyOkI"
      },
      "execution_count": 71,
      "outputs": []
    },
    {
      "cell_type": "code",
      "source": [
        "model.fit(dataset, epochs=1)"
      ],
      "metadata": {
        "id": "5BVIB-oQyQ0n",
        "colab": {
          "base_uri": "https://localhost:8080/"
        },
        "outputId": "22a6ee50-01f0-4caf-f697-40774e62acdf"
      },
      "execution_count": 72,
      "outputs": [
        {
          "output_type": "stream",
          "name": "stdout",
          "text": [
            "172/172 [==============================] - 16s 56ms/step - loss: 2.7088\n"
          ]
        },
        {
          "output_type": "execute_result",
          "data": {
            "text/plain": [
              "<keras.src.callbacks.History at 0x7dcfed2ef6a0>"
            ]
          },
          "metadata": {},
          "execution_count": 72
        }
      ]
    },
    {
      "cell_type": "markdown",
      "source": [
        "\n",
        "\n",
        "> Atau jika ingin lebih mengetahui dalamnya, kita bisa membuat custom training loop sendiri:\n",
        "\n"
      ],
      "metadata": {
        "id": "KFrwYgS9isQS"
      }
    },
    {
      "cell_type": "code",
      "source": [
        "EPOCHS = 10\n",
        "\n",
        "mean = tf.metrics.Mean()\n",
        "\n",
        "for epoch in range(EPOCHS):\n",
        "    start = time.time()\n",
        "\n",
        "    mean.reset_states()\n",
        "    for (batch_n, (inp, target)) in enumerate(dataset):\n",
        "        logs = model.train_step([inp, target])\n",
        "        mean.update_state(logs['loss'])\n",
        "\n",
        "        if batch_n % 50 == 0:\n",
        "            template = f\"Epoch {epoch+1} Batch {batch_n} Loss {logs['loss']:.4f}\"\n",
        "            print(template)\n",
        "\n",
        "# saving (checkpoint) the model every 5 epochs\n",
        "    if (epoch + 1) % 5 == 0:\n",
        "        model.save_weights(checkpoint_prefix.format(epoch=epoch))\n",
        "\n",
        "    print()\n",
        "    print(f'Epoch {epoch+1} Loss: {mean.result().numpy():.4f}')\n",
        "    print(f'Time taken for 1 epoch {time.time() - start:.2f} sec')\n",
        "    print(\"_\"*80)\n",
        "\n",
        "model.save_weights(checkpoint_prefix.format(epoch=epoch))"
      ],
      "metadata": {
        "id": "4KEr9QSriyti",
        "colab": {
          "base_uri": "https://localhost:8080/"
        },
        "outputId": "ce67da5f-1937-491c-ded1-8c2e42c7a237"
      },
      "execution_count": 73,
      "outputs": [
        {
          "output_type": "stream",
          "name": "stdout",
          "text": [
            "Epoch 1 Batch 0 Loss 2.1933\n",
            "Epoch 1 Batch 50 Loss 2.0528\n",
            "Epoch 1 Batch 100 Loss 1.9446\n",
            "Epoch 1 Batch 150 Loss 1.8072\n",
            "\n",
            "Epoch 1 Loss: 1.9825\n",
            "Time taken for 1 epoch 13.17 sec\n",
            "________________________________________________________________________________\n",
            "Epoch 2 Batch 0 Loss 1.7748\n",
            "Epoch 2 Batch 50 Loss 1.7698\n",
            "Epoch 2 Batch 100 Loss 1.6529\n",
            "Epoch 2 Batch 150 Loss 1.6298\n",
            "\n",
            "Epoch 2 Loss: 1.7016\n",
            "Time taken for 1 epoch 11.28 sec\n",
            "________________________________________________________________________________\n",
            "Epoch 3 Batch 0 Loss 1.6000\n",
            "Epoch 3 Batch 50 Loss 1.5645\n",
            "Epoch 3 Batch 100 Loss 1.5381\n",
            "Epoch 3 Batch 150 Loss 1.4876\n",
            "\n",
            "Epoch 3 Loss: 1.5417\n",
            "Time taken for 1 epoch 11.46 sec\n",
            "________________________________________________________________________________\n",
            "Epoch 4 Batch 0 Loss 1.4815\n",
            "Epoch 4 Batch 50 Loss 1.4433\n",
            "Epoch 4 Batch 100 Loss 1.4169\n",
            "Epoch 4 Batch 150 Loss 1.4055\n",
            "\n",
            "Epoch 4 Loss: 1.4465\n",
            "Time taken for 1 epoch 11.20 sec\n",
            "________________________________________________________________________________\n",
            "Epoch 5 Batch 0 Loss 1.3663\n",
            "Epoch 5 Batch 50 Loss 1.3408\n",
            "Epoch 5 Batch 100 Loss 1.4210\n",
            "Epoch 5 Batch 150 Loss 1.3731\n",
            "\n",
            "Epoch 5 Loss: 1.3803\n",
            "Time taken for 1 epoch 11.08 sec\n",
            "________________________________________________________________________________\n",
            "Epoch 6 Batch 0 Loss 1.3140\n",
            "Epoch 6 Batch 50 Loss 1.3347\n",
            "Epoch 6 Batch 100 Loss 1.3418\n",
            "Epoch 6 Batch 150 Loss 1.3285\n",
            "\n",
            "Epoch 6 Loss: 1.3272\n",
            "Time taken for 1 epoch 10.86 sec\n",
            "________________________________________________________________________________\n",
            "Epoch 7 Batch 0 Loss 1.3066\n",
            "Epoch 7 Batch 50 Loss 1.2951\n",
            "Epoch 7 Batch 100 Loss 1.2466\n",
            "Epoch 7 Batch 150 Loss 1.2734\n",
            "\n",
            "Epoch 7 Loss: 1.2829\n",
            "Time taken for 1 epoch 10.77 sec\n",
            "________________________________________________________________________________\n",
            "Epoch 8 Batch 0 Loss 1.2258\n",
            "Epoch 8 Batch 50 Loss 1.2627\n",
            "Epoch 8 Batch 100 Loss 1.2299\n",
            "Epoch 8 Batch 150 Loss 1.2452\n",
            "\n",
            "Epoch 8 Loss: 1.2425\n",
            "Time taken for 1 epoch 10.83 sec\n",
            "________________________________________________________________________________\n",
            "Epoch 9 Batch 0 Loss 1.2096\n",
            "Epoch 9 Batch 50 Loss 1.1592\n",
            "Epoch 9 Batch 100 Loss 1.2044\n",
            "Epoch 9 Batch 150 Loss 1.1943\n",
            "\n",
            "Epoch 9 Loss: 1.2029\n",
            "Time taken for 1 epoch 10.88 sec\n",
            "________________________________________________________________________________\n",
            "Epoch 10 Batch 0 Loss 1.1446\n",
            "Epoch 10 Batch 50 Loss 1.1805\n",
            "Epoch 10 Batch 100 Loss 1.1900\n",
            "Epoch 10 Batch 150 Loss 1.1665\n",
            "\n",
            "Epoch 10 Loss: 1.1620\n",
            "Time taken for 1 epoch 11.65 sec\n",
            "________________________________________________________________________________\n"
          ]
        }
      ]
    },
    {
      "cell_type": "markdown",
      "source": [
        "3. Jalankan kode diatas dan sebutkan perbedaanya dengan praktikum 2?"
      ],
      "metadata": {
        "id": "AUoyKGceidjB"
      }
    },
    {
      "cell_type": "markdown",
      "source": [
        "perbandingan antara Praktikum 2 dan Pelatihan Tugas adalah sebagai berikut:\n",
        "\n",
        "1.Arsitektur Model:\n",
        "\n",
        "Praktikum 2 menggunakan model bahasa yang berdasarkan RNN (Recurrent Neural Network), sementara pada Pelatihan Tugas mungkin digunakan arsitektur yang berbeda, seperti GRU (Gated Recurrent Unit) dalam modelnya.\n",
        "Praktikum 2 tampaknya lebih simpel dalam hal desain model karena berfungsi sebagai demonstrasi dasar. Model pada Pelatihan Tugas memiliki komponen yang lebih kompleks, termasuk lapisan embedding, lapisan GRU, dan lapisan dense.\n",
        "\n",
        "2.Jumlah Epoch:\n",
        "\n",
        "Dalam Praktikum 2, model dijalankan selama 20 epoch, sementara pada Pelatihan Tugas, model dilatih selama 10 epoch.\n",
        "\n",
        "3.Prosedur Pelatihan:\n",
        "\n",
        "Praktikum 2 lebih simpel dalam metode pelatihannya dan menggunakan API model.fit() bawaan dari Keras.\n",
        "Pada Pelatihan Tugas, terdapat implementasi loop pelatihan yang lebih khusus dengan menggunakan train_step, memberikan lebih banyak kontrol atas proses pelatihan, termasuk pengukuran loss, perhitungan gradien, dan optimisasi.\n",
        "\n",
        "4.Output Hasil Pelatihan:\n",
        "\n",
        "Hasil dari Praktikum 2 memberikan informasi ringkas tentang loss selama pelatihan tanpa rincian tambahan mengenai perubahan loss antar epoch atau waktu eksekusi.\n",
        "Dalam Pelatihan Tugas, terdapat pencatatan loss untuk setiap batch dan setiap epoch, serta waktu yang dibutuhkan untuk menjalankan setiap epoch.\n",
        "\n",
        "5.Waktu Eksekusi:\n",
        "\n",
        "Waktu eksekusi per epoch dapat bervariasi antara kedua eksperimen karena Praktikum 2 mungkin lebih cepat dalam pengaturan defaultnya, sedangkan pada Pelatihan Tugas, waktu eksekusi mungkin lebih lama karena menjalankan model selama lebih banyak epoch."
      ],
      "metadata": {
        "id": "6UKsD6Coj5xS"
      }
    }
  ]
}