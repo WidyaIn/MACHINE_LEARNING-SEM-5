{
  "nbformat": 4,
  "nbformat_minor": 0,
  "metadata": {
    "colab": {
      "provenance": [],
      "gpuType": "T4",
      "include_colab_link": true
    },
    "kernelspec": {
      "name": "python3",
      "display_name": "Python 3"
    },
    "language_info": {
      "name": "python"
    },
    "accelerator": "GPU"
  },
  "cells": [
    {
      "cell_type": "markdown",
      "metadata": {
        "id": "view-in-github",
        "colab_type": "text"
      },
      "source": [
        "<a href=\"https://colab.research.google.com/github/WidyaIn/MACHINE_LEARNING-SEM-5/blob/main/modul11_Tugas_ML.ipynb\" target=\"_parent\"><img src=\"https://colab.research.google.com/assets/colab-badge.svg\" alt=\"Open In Colab\"/></a>"
      ]
    },
    {
      "cell_type": "markdown",
      "source": [
        "# **TUGAS**"
      ],
      "metadata": {
        "id": "ePgDzp9P5kpO"
      }
    },
    {
      "cell_type": "markdown",
      "source": [
        "* Modifikasi model CNN pada praktikum 2 sehingga didapatkan akurasi testing lebih dari 80%.\n",
        "* Buatlah model CNN untuk klasifikasi dataset MNIST."
      ],
      "metadata": {
        "id": "4cgQt7io5myY"
      }
    },
    {
      "cell_type": "markdown",
      "source": [
        "### **Modifikasi model CNN pada praktikum 2 sehingga didapatkan akurasi testing lebih dari 80%.**"
      ],
      "metadata": {
        "id": "1vsjdATF7URr"
      }
    },
    {
      "cell_type": "markdown",
      "source": [
        "**Langkah 1 - Load Library**"
      ],
      "metadata": {
        "id": "D32tYlMq7Zpk"
      }
    },
    {
      "cell_type": "code",
      "source": [
        "import tensorflow as tf\n",
        "from tensorflow.keras import datasets, layers, models\n",
        "import matplotlib.pyplot as plt"
      ],
      "metadata": {
        "id": "TIo7fYcl8q4N"
      },
      "execution_count": 1,
      "outputs": []
    },
    {
      "cell_type": "markdown",
      "source": [
        "**2. Load CIFAR-10 dataset**"
      ],
      "metadata": {
        "id": "Ndxce-2-7oRL"
      }
    },
    {
      "cell_type": "code",
      "source": [
        "(train_images, train_labels), (test_images, test_labels) = datasets.cifar10.load_data()"
      ],
      "metadata": {
        "id": "r9uTEAzi8ogH",
        "colab": {
          "base_uri": "https://localhost:8080/"
        },
        "outputId": "c7752853-35f9-4adf-ae89-7082dfe4615e"
      },
      "execution_count": 2,
      "outputs": [
        {
          "output_type": "stream",
          "name": "stdout",
          "text": [
            "Downloading data from https://www.cs.toronto.edu/~kriz/cifar-10-python.tar.gz\n",
            "170498071/170498071 [==============================] - 7s 0us/step\n"
          ]
        }
      ]
    },
    {
      "cell_type": "markdown",
      "source": [
        "**3. Normalisasikan nilai piksel menjadi antara 0 dan 1**"
      ],
      "metadata": {
        "id": "z1t06xDw7yNG"
      }
    },
    {
      "cell_type": "code",
      "source": [
        "train_images, test_images = train_images / 255.0, test_images / 255.0"
      ],
      "metadata": {
        "id": "xF-hKwHV8nYP"
      },
      "execution_count": 3,
      "outputs": []
    },
    {
      "cell_type": "markdown",
      "source": [
        "**4. Buat model CNN**"
      ],
      "metadata": {
        "id": "8ujRa4PN71zS"
      }
    },
    {
      "cell_type": "code",
      "source": [
        "model = models.Sequential()"
      ],
      "metadata": {
        "id": "N7jtluKX8jpt"
      },
      "execution_count": 4,
      "outputs": []
    },
    {
      "cell_type": "markdown",
      "source": [
        "**5. Tambahkan Lapisan Konvolusional**"
      ],
      "metadata": {
        "id": "yBt6oU-U74xM"
      }
    },
    {
      "cell_type": "code",
      "source": [
        "model.add(layers.Conv2D(32, (3, 3), activation='relu', input_shape=(32, 32, 3)))\n",
        "model.add(layers.MaxPooling2D((2, 2)))\n",
        "model.add(layers.Conv2D(64, (3, 3), activation='relu'))\n",
        "model.add(layers.MaxPooling2D((2, 2)))\n",
        "model.add(layers.Conv2D(128, (3, 3), activation='relu'))\n",
        "model.add(layers.MaxPooling2D((2, 2)))"
      ],
      "metadata": {
        "id": "kDLV9RfY8g5p"
      },
      "execution_count": 5,
      "outputs": []
    },
    {
      "cell_type": "markdown",
      "source": [
        "**6. Ratakan dan tambahkan Lapisan Terhubung Sepenuhnya**"
      ],
      "metadata": {
        "id": "cm-DhIVW77gb"
      }
    },
    {
      "cell_type": "code",
      "source": [
        "model.add(layers.Flatten())\n",
        "model.add(layers.Dense(128, activation='relu'))\n",
        "model.add(layers.Dropout(0.5))  # Dropout layer to reduce overfitting\n",
        "model.add(layers.Dense(10, activation='softmax'))"
      ],
      "metadata": {
        "id": "PMvGyavw8eNP"
      },
      "execution_count": 6,
      "outputs": []
    },
    {
      "cell_type": "markdown",
      "source": [
        "**7. Compile modelnya**"
      ],
      "metadata": {
        "id": "Rjt4eWXD8EY2"
      }
    },
    {
      "cell_type": "code",
      "source": [
        "model.compile(optimizer='adam',\n",
        "              loss='sparse_categorical_crossentropy',\n",
        "              metrics=['accuracy'])"
      ],
      "metadata": {
        "id": "vdleYl8J8b8O"
      },
      "execution_count": 7,
      "outputs": []
    },
    {
      "cell_type": "markdown",
      "source": [
        "**8. Latih model dengan lebih banyak epoch**"
      ],
      "metadata": {
        "id": "AloDkXkl8Gbp"
      }
    },
    {
      "cell_type": "code",
      "source": [
        "history = model.fit(train_images, train_labels, epochs=20, validation_data=(test_images, test_labels))"
      ],
      "metadata": {
        "colab": {
          "base_uri": "https://localhost:8080/"
        },
        "id": "qL-KBnz78WNR",
        "outputId": "9ad040fc-c3f4-4c9b-facf-f3ce97a2c222"
      },
      "execution_count": 8,
      "outputs": [
        {
          "output_type": "stream",
          "name": "stdout",
          "text": [
            "Epoch 1/20\n",
            "1563/1563 [==============================] - 24s 6ms/step - loss: 1.6610 - accuracy: 0.3857 - val_loss: 1.3031 - val_accuracy: 0.5306\n",
            "Epoch 2/20\n",
            "1563/1563 [==============================] - 11s 7ms/step - loss: 1.2996 - accuracy: 0.5392 - val_loss: 1.1653 - val_accuracy: 0.5881\n",
            "Epoch 3/20\n",
            "1563/1563 [==============================] - 11s 7ms/step - loss: 1.1545 - accuracy: 0.5959 - val_loss: 1.0546 - val_accuracy: 0.6271\n",
            "Epoch 4/20\n",
            "1563/1563 [==============================] - 10s 6ms/step - loss: 1.0482 - accuracy: 0.6326 - val_loss: 0.9710 - val_accuracy: 0.6561\n",
            "Epoch 5/20\n",
            "1563/1563 [==============================] - 10s 7ms/step - loss: 0.9656 - accuracy: 0.6655 - val_loss: 0.9398 - val_accuracy: 0.6655\n",
            "Epoch 6/20\n",
            "1563/1563 [==============================] - 10s 6ms/step - loss: 0.9009 - accuracy: 0.6862 - val_loss: 0.9064 - val_accuracy: 0.6892\n",
            "Epoch 7/20\n",
            "1563/1563 [==============================] - 9s 6ms/step - loss: 0.8428 - accuracy: 0.7075 - val_loss: 0.9311 - val_accuracy: 0.6755\n",
            "Epoch 8/20\n",
            "1563/1563 [==============================] - 10s 6ms/step - loss: 0.8055 - accuracy: 0.7207 - val_loss: 0.9421 - val_accuracy: 0.6787\n",
            "Epoch 9/20\n",
            "1563/1563 [==============================] - 11s 7ms/step - loss: 0.7608 - accuracy: 0.7355 - val_loss: 0.8654 - val_accuracy: 0.7030\n",
            "Epoch 10/20\n",
            "1563/1563 [==============================] - 9s 6ms/step - loss: 0.7262 - accuracy: 0.7491 - val_loss: 0.8391 - val_accuracy: 0.7100\n",
            "Epoch 11/20\n",
            "1563/1563 [==============================] - 9s 6ms/step - loss: 0.6943 - accuracy: 0.7592 - val_loss: 0.8532 - val_accuracy: 0.7152\n",
            "Epoch 12/20\n",
            "1563/1563 [==============================] - 10s 6ms/step - loss: 0.6674 - accuracy: 0.7666 - val_loss: 0.8518 - val_accuracy: 0.7202\n",
            "Epoch 13/20\n",
            "1563/1563 [==============================] - 9s 6ms/step - loss: 0.6409 - accuracy: 0.7767 - val_loss: 0.8384 - val_accuracy: 0.7217\n",
            "Epoch 14/20\n",
            "1563/1563 [==============================] - 10s 6ms/step - loss: 0.6203 - accuracy: 0.7820 - val_loss: 0.8813 - val_accuracy: 0.7112\n",
            "Epoch 15/20\n",
            "1563/1563 [==============================] - 10s 7ms/step - loss: 0.5982 - accuracy: 0.7888 - val_loss: 0.8884 - val_accuracy: 0.7159\n",
            "Epoch 16/20\n",
            "1563/1563 [==============================] - 9s 6ms/step - loss: 0.5795 - accuracy: 0.7969 - val_loss: 0.8698 - val_accuracy: 0.7224\n",
            "Epoch 17/20\n",
            "1563/1563 [==============================] - 9s 6ms/step - loss: 0.5592 - accuracy: 0.8023 - val_loss: 0.8788 - val_accuracy: 0.7223\n",
            "Epoch 18/20\n",
            "1563/1563 [==============================] - 10s 6ms/step - loss: 0.5436 - accuracy: 0.8072 - val_loss: 0.8851 - val_accuracy: 0.7256\n",
            "Epoch 19/20\n",
            "1563/1563 [==============================] - 8s 5ms/step - loss: 0.5204 - accuracy: 0.8151 - val_loss: 0.9303 - val_accuracy: 0.7201\n",
            "Epoch 20/20\n",
            "1563/1563 [==============================] - 10s 6ms/step - loss: 0.5108 - accuracy: 0.8170 - val_loss: 0.9169 - val_accuracy: 0.7212\n"
          ]
        }
      ]
    },
    {
      "cell_type": "markdown",
      "source": [
        "**9. Evaluasi hasil model**"
      ],
      "metadata": {
        "id": "NIi_p13z8Kcz"
      }
    },
    {
      "cell_type": "code",
      "source": [
        "test_loss, test_acc = model.evaluate(test_images, test_labels, verbose=2)\n",
        "print(f\"Test accuracy: {test_acc}\")"
      ],
      "metadata": {
        "colab": {
          "base_uri": "https://localhost:8080/"
        },
        "id": "Arsfbw_08S-Q",
        "outputId": "27429dff-9058-41f1-8e41-64bdb2f6fca1"
      },
      "execution_count": 9,
      "outputs": [
        {
          "output_type": "stream",
          "name": "stdout",
          "text": [
            "313/313 - 1s - loss: 0.9169 - accuracy: 0.7212 - 751ms/epoch - 2ms/step\n",
            "Test accuracy: 0.7211999893188477\n"
          ]
        }
      ]
    },
    {
      "cell_type": "markdown",
      "source": [
        "**10. Plot training history**"
      ],
      "metadata": {
        "id": "UBhavfiy8NMg"
      }
    },
    {
      "cell_type": "code",
      "source": [
        "plt.plot(history.history['accuracy'], label='accuracy')\n",
        "plt.plot(history.history['val_accuracy'], label='val_accuracy')\n",
        "plt.xlabel('Epoch')\n",
        "plt.ylabel('Accuracy')\n",
        "plt.ylim([0, 1])\n",
        "plt.legend(loc='lower right')\n",
        "plt.show()"
      ],
      "metadata": {
        "colab": {
          "base_uri": "https://localhost:8080/",
          "height": 455
        },
        "id": "3_Zi5Wsu8PrS",
        "outputId": "ab625b6e-54f3-4ec9-999f-cb0718f952cd"
      },
      "execution_count": 10,
      "outputs": [
        {
          "output_type": "display_data",
          "data": {
            "text/plain": [
              "<Figure size 640x480 with 1 Axes>"
            ],
            "image/png": "[encoded data removed]"
          },
          "metadata": {}
        }
      ]
    },
    {
      "cell_type": "markdown",
      "source": [
        "### **Buatlah model CNN untuk klasifikasi dataset MNIST.**"
      ],
      "metadata": {
        "id": "nhKqm_1M8tgb"
      }
    },
    {
      "cell_type": "markdown",
      "source": [
        "**1. Import Library**"
      ],
      "metadata": {
        "id": "w_OLXl1581R0"
      }
    },
    {
      "cell_type": "code",
      "source": [
        "import tensorflow as tf\n",
        "from tensorflow.keras import datasets, layers, models\n",
        "import matplotlib.pyplot as plt"
      ],
      "metadata": {
        "id": "pwSI0gPzbqb6"
      },
      "execution_count": 11,
      "outputs": []
    },
    {
      "cell_type": "markdown",
      "source": [
        "**2. Load Mnist dataset**"
      ],
      "metadata": {
        "id": "X1Utp6F7bBFH"
      }
    },
    {
      "cell_type": "code",
      "source": [
        "(train_images, train_labels), (test_images, test_labels) = datasets.mnist.load_data()"
      ],
      "metadata": {
        "colab": {
          "base_uri": "https://localhost:8080/"
        },
        "id": "CiIopDyQbmeV",
        "outputId": "ecc44e2b-1745-4d2b-a361-30868d6f5424"
      },
      "execution_count": 12,
      "outputs": [
        {
          "output_type": "stream",
          "name": "stdout",
          "text": [
            "Downloading data from https://storage.googleapis.com/tensorflow/tf-keras-datasets/mnist.npz\n",
            "11490434/11490434 [==============================] - 1s 0us/step\n"
          ]
        }
      ]
    },
    {
      "cell_type": "markdown",
      "source": [
        "**3. Normalisasikan nilai piksel menjadi antara 0 dan 1**"
      ],
      "metadata": {
        "id": "LYN6MioHbE1c"
      }
    },
    {
      "cell_type": "code",
      "source": [
        "train_images, test_images = train_images / 255.0, test_images / 255.0"
      ],
      "metadata": {
        "id": "sWoQiSO_bjjK"
      },
      "execution_count": 13,
      "outputs": []
    },
    {
      "cell_type": "markdown",
      "source": [
        "**4. Buat model CNN**"
      ],
      "metadata": {
        "id": "feI2kFg2bHAH"
      }
    },
    {
      "cell_type": "code",
      "source": [
        "model = models.Sequential()\n",
        "model.add(layers.Conv2D(32, (3, 3), activation='relu', input_shape=(28, 28, 1)))\n",
        "model.add(layers.MaxPooling2D((2, 2)))\n",
        "model.add(layers.Conv2D(64, (3, 3), activation='relu'))\n",
        "model.add(layers.MaxPooling2D((2, 2)))\n",
        "model.add(layers.Conv2D(64, (3, 3), activation='relu'))\n",
        "model.add(layers.Flatten())\n",
        "model.add(layers.Dense(64, activation='relu'))\n",
        "model.add(layers.Dense(10, activation='softmax'))"
      ],
      "metadata": {
        "id": "viTo_29zbifW"
      },
      "execution_count": 14,
      "outputs": []
    },
    {
      "cell_type": "markdown",
      "source": [
        "**5. Compile modelnya**"
      ],
      "metadata": {
        "id": "LJrMynZ6bJIQ"
      }
    },
    {
      "cell_type": "code",
      "source": [
        "model.compile(optimizer='adam',\n",
        "              loss='sparse_categorical_crossentropy',\n",
        "              metrics=['accuracy'])"
      ],
      "metadata": {
        "id": "LioAi3RMbdGX"
      },
      "execution_count": 15,
      "outputs": []
    },
    {
      "cell_type": "markdown",
      "source": [
        "**6. Latih model dengan lebih banyak epoch**"
      ],
      "metadata": {
        "id": "AUDVXSf_bK3r"
      }
    },
    {
      "cell_type": "code",
      "source": [
        "history = model.fit(train_images, train_labels, epochs=10, validation_data=(test_images, test_labels))"
      ],
      "metadata": {
        "colab": {
          "base_uri": "https://localhost:8080/"
        },
        "id": "Lx6aSazDbXXA",
        "outputId": "93791e4d-0b0e-4869-9820-4cc57020170a"
      },
      "execution_count": 16,
      "outputs": [
        {
          "output_type": "stream",
          "name": "stdout",
          "text": [
            "Epoch 1/10\n",
            "1875/1875 [==============================] - 12s 5ms/step - loss: 0.1445 - accuracy: 0.9567 - val_loss: 0.0519 - val_accuracy: 0.9841\n",
            "Epoch 2/10\n",
            "1875/1875 [==============================] - 11s 6ms/step - loss: 0.0443 - accuracy: 0.9863 - val_loss: 0.0344 - val_accuracy: 0.9897\n",
            "Epoch 3/10\n",
            "1875/1875 [==============================] - 10s 5ms/step - loss: 0.0329 - accuracy: 0.9897 - val_loss: 0.0287 - val_accuracy: 0.9911\n",
            "Epoch 4/10\n",
            "1875/1875 [==============================] - 9s 5ms/step - loss: 0.0253 - accuracy: 0.9920 - val_loss: 0.0324 - val_accuracy: 0.9887\n",
            "Epoch 5/10\n",
            "1875/1875 [==============================] - 12s 6ms/step - loss: 0.0195 - accuracy: 0.9939 - val_loss: 0.0368 - val_accuracy: 0.9893\n",
            "Epoch 6/10\n",
            "1875/1875 [==============================] - 11s 6ms/step - loss: 0.0156 - accuracy: 0.9948 - val_loss: 0.0383 - val_accuracy: 0.9895\n",
            "Epoch 7/10\n",
            "1875/1875 [==============================] - 9s 5ms/step - loss: 0.0143 - accuracy: 0.9954 - val_loss: 0.0349 - val_accuracy: 0.9903\n",
            "Epoch 8/10\n",
            "1875/1875 [==============================] - 10s 5ms/step - loss: 0.0106 - accuracy: 0.9962 - val_loss: 0.0362 - val_accuracy: 0.9913\n",
            "Epoch 9/10\n",
            "1875/1875 [==============================] - 9s 5ms/step - loss: 0.0091 - accuracy: 0.9971 - val_loss: 0.0394 - val_accuracy: 0.9905\n",
            "Epoch 10/10\n",
            "1875/1875 [==============================] - 9s 5ms/step - loss: 0.0095 - accuracy: 0.9968 - val_loss: 0.0328 - val_accuracy: 0.9929\n"
          ]
        }
      ]
    },
    {
      "cell_type": "markdown",
      "source": [
        "**7. Evaluasi hasil model**"
      ],
      "metadata": {
        "id": "BO_sXa4SbMrP"
      }
    },
    {
      "cell_type": "code",
      "source": [
        "test_loss, test_acc = model.evaluate(test_images,  test_labels, verbose=2)\n",
        "print(f\"Test accuracy: {test_acc}\")"
      ],
      "metadata": {
        "colab": {
          "base_uri": "https://localhost:8080/"
        },
        "id": "o3ARE42FbWeO",
        "outputId": "0d10cbbc-46bc-443b-81a7-f95882e602ee"
      },
      "execution_count": 17,
      "outputs": [
        {
          "output_type": "stream",
          "name": "stdout",
          "text": [
            "313/313 - 1s - loss: 0.0328 - accuracy: 0.9929 - 687ms/epoch - 2ms/step\n",
            "Test accuracy: 0.992900013923645\n"
          ]
        }
      ]
    },
    {
      "cell_type": "markdown",
      "source": [
        "**8. Plot training history**"
      ],
      "metadata": {
        "id": "cy9LLJ8IbOnA"
      }
    },
    {
      "cell_type": "code",
      "source": [
        "plt.plot(history.history['accuracy'], label='accuracy')\n",
        "plt.plot(history.history['val_accuracy'], label='val_accuracy')\n",
        "plt.xlabel('Epoch')\n",
        "plt.ylabel('Accuracy')\n",
        "plt.ylim([0, 1])\n",
        "plt.legend(loc='lower right')\n",
        "plt.show()"
      ],
      "metadata": {
        "colab": {
          "base_uri": "https://localhost:8080/",
          "height": 455
        },
        "id": "bP0Tq5wKbQjt",
        "outputId": "404f6ae9-804c-4093-96ef-7169a9fdaaf6"
      },
      "execution_count": 18,
      "outputs": [
        {
          "output_type": "display_data",
          "data": {
            "text/plain": [
              "<Figure size 640x480 with 1 Axes>"
            ],
            "image/png": "[encoded data removed]"
          },
          "metadata": {}
        }
      ]
    }
  ]
}